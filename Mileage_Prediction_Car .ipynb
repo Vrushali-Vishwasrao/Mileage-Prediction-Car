{
 "cells": [
  {
   "cell_type": "markdown",
   "id": "45f27b9f",
   "metadata": {},
   "source": [
    "# 1. Import Necessary libraries"
   ]
  },
  {
   "cell_type": "code",
   "execution_count": 1,
   "id": "3e3fb46c",
   "metadata": {},
   "outputs": [],
   "source": [
    "import pandas as pd\n",
    "\n",
    "from matplotlib import pyplot as plt\n",
    "import seaborn as sns\n",
    "\n",
    "import warnings\n",
    "warnings.filterwarnings('ignore')"
   ]
  },
  {
   "cell_type": "markdown",
   "id": "4b2dd033",
   "metadata": {},
   "source": [
    "# 2. Import Data"
   ]
  },
  {
   "cell_type": "code",
   "execution_count": 2,
   "id": "b7902751",
   "metadata": {},
   "outputs": [
    {
     "data": {
      "text/html": [
       "<div>\n",
       "<style scoped>\n",
       "    .dataframe tbody tr th:only-of-type {\n",
       "        vertical-align: middle;\n",
       "    }\n",
       "\n",
       "    .dataframe tbody tr th {\n",
       "        vertical-align: top;\n",
       "    }\n",
       "\n",
       "    .dataframe thead th {\n",
       "        text-align: right;\n",
       "    }\n",
       "</style>\n",
       "<table border=\"1\" class=\"dataframe\">\n",
       "  <thead>\n",
       "    <tr style=\"text-align: right;\">\n",
       "      <th></th>\n",
       "      <th>HP</th>\n",
       "      <th>MPG</th>\n",
       "      <th>VOL</th>\n",
       "      <th>SP</th>\n",
       "      <th>WT</th>\n",
       "    </tr>\n",
       "  </thead>\n",
       "  <tbody>\n",
       "    <tr>\n",
       "      <th>0</th>\n",
       "      <td>49</td>\n",
       "      <td>53.700681</td>\n",
       "      <td>89</td>\n",
       "      <td>104.185353</td>\n",
       "      <td>28.762059</td>\n",
       "    </tr>\n",
       "    <tr>\n",
       "      <th>1</th>\n",
       "      <td>55</td>\n",
       "      <td>50.013401</td>\n",
       "      <td>92</td>\n",
       "      <td>105.461264</td>\n",
       "      <td>30.466833</td>\n",
       "    </tr>\n",
       "    <tr>\n",
       "      <th>2</th>\n",
       "      <td>55</td>\n",
       "      <td>50.013401</td>\n",
       "      <td>92</td>\n",
       "      <td>105.461264</td>\n",
       "      <td>30.193597</td>\n",
       "    </tr>\n",
       "    <tr>\n",
       "      <th>3</th>\n",
       "      <td>70</td>\n",
       "      <td>45.696322</td>\n",
       "      <td>92</td>\n",
       "      <td>113.461264</td>\n",
       "      <td>30.632114</td>\n",
       "    </tr>\n",
       "    <tr>\n",
       "      <th>4</th>\n",
       "      <td>53</td>\n",
       "      <td>50.504232</td>\n",
       "      <td>92</td>\n",
       "      <td>104.461264</td>\n",
       "      <td>29.889149</td>\n",
       "    </tr>\n",
       "    <tr>\n",
       "      <th>...</th>\n",
       "      <td>...</td>\n",
       "      <td>...</td>\n",
       "      <td>...</td>\n",
       "      <td>...</td>\n",
       "      <td>...</td>\n",
       "    </tr>\n",
       "    <tr>\n",
       "      <th>76</th>\n",
       "      <td>322</td>\n",
       "      <td>36.900000</td>\n",
       "      <td>50</td>\n",
       "      <td>169.598513</td>\n",
       "      <td>16.132947</td>\n",
       "    </tr>\n",
       "    <tr>\n",
       "      <th>77</th>\n",
       "      <td>238</td>\n",
       "      <td>19.197888</td>\n",
       "      <td>115</td>\n",
       "      <td>150.576579</td>\n",
       "      <td>37.923113</td>\n",
       "    </tr>\n",
       "    <tr>\n",
       "      <th>78</th>\n",
       "      <td>263</td>\n",
       "      <td>34.000000</td>\n",
       "      <td>50</td>\n",
       "      <td>151.598513</td>\n",
       "      <td>15.769625</td>\n",
       "    </tr>\n",
       "    <tr>\n",
       "      <th>79</th>\n",
       "      <td>295</td>\n",
       "      <td>19.833733</td>\n",
       "      <td>119</td>\n",
       "      <td>167.944460</td>\n",
       "      <td>39.423099</td>\n",
       "    </tr>\n",
       "    <tr>\n",
       "      <th>80</th>\n",
       "      <td>236</td>\n",
       "      <td>12.101263</td>\n",
       "      <td>107</td>\n",
       "      <td>139.840817</td>\n",
       "      <td>34.948615</td>\n",
       "    </tr>\n",
       "  </tbody>\n",
       "</table>\n",
       "<p>81 rows × 5 columns</p>\n",
       "</div>"
      ],
      "text/plain": [
       "     HP        MPG  VOL          SP         WT\n",
       "0    49  53.700681   89  104.185353  28.762059\n",
       "1    55  50.013401   92  105.461264  30.466833\n",
       "2    55  50.013401   92  105.461264  30.193597\n",
       "3    70  45.696322   92  113.461264  30.632114\n",
       "4    53  50.504232   92  104.461264  29.889149\n",
       "..  ...        ...  ...         ...        ...\n",
       "76  322  36.900000   50  169.598513  16.132947\n",
       "77  238  19.197888  115  150.576579  37.923113\n",
       "78  263  34.000000   50  151.598513  15.769625\n",
       "79  295  19.833733  119  167.944460  39.423099\n",
       "80  236  12.101263  107  139.840817  34.948615\n",
       "\n",
       "[81 rows x 5 columns]"
      ]
     },
     "execution_count": 2,
     "metadata": {},
     "output_type": "execute_result"
    }
   ],
   "source": [
    "cars_data = pd.read_csv('Cars.csv')\n",
    "cars_data"
   ]
  },
  {
   "cell_type": "markdown",
   "id": "58dd4dcd",
   "metadata": {},
   "source": [
    "# 3. Data Understanding"
   ]
  },
  {
   "cell_type": "markdown",
   "id": "80646312",
   "metadata": {},
   "source": [
    "## 3.1 Perform Initial Analysis"
   ]
  },
  {
   "cell_type": "code",
   "execution_count": 4,
   "id": "ffc3a991",
   "metadata": {},
   "outputs": [
    {
     "data": {
      "text/plain": [
       "(81, 5)"
      ]
     },
     "execution_count": 4,
     "metadata": {},
     "output_type": "execute_result"
    }
   ],
   "source": [
    "cars_data.shape"
   ]
  },
  {
   "cell_type": "code",
   "execution_count": 5,
   "id": "57f8b6eb",
   "metadata": {},
   "outputs": [
    {
     "data": {
      "text/plain": [
       "HP       int64\n",
       "MPG    float64\n",
       "VOL      int64\n",
       "SP     float64\n",
       "WT     float64\n",
       "dtype: object"
      ]
     },
     "execution_count": 5,
     "metadata": {},
     "output_type": "execute_result"
    }
   ],
   "source": [
    "cars_data.dtypes"
   ]
  },
  {
   "cell_type": "code",
   "execution_count": 6,
   "id": "1f119065",
   "metadata": {},
   "outputs": [
    {
     "data": {
      "text/plain": [
       "HP     0\n",
       "MPG    0\n",
       "VOL    0\n",
       "SP     0\n",
       "WT     0\n",
       "dtype: int64"
      ]
     },
     "execution_count": 6,
     "metadata": {},
     "output_type": "execute_result"
    }
   ],
   "source": [
    "cars_data.isna().sum()"
   ]
  },
  {
   "cell_type": "code",
   "execution_count": 7,
   "id": "878ff628",
   "metadata": {},
   "outputs": [
    {
     "data": {
      "text/html": [
       "<div>\n",
       "<style scoped>\n",
       "    .dataframe tbody tr th:only-of-type {\n",
       "        vertical-align: middle;\n",
       "    }\n",
       "\n",
       "    .dataframe tbody tr th {\n",
       "        vertical-align: top;\n",
       "    }\n",
       "\n",
       "    .dataframe thead th {\n",
       "        text-align: right;\n",
       "    }\n",
       "</style>\n",
       "<table border=\"1\" class=\"dataframe\">\n",
       "  <thead>\n",
       "    <tr style=\"text-align: right;\">\n",
       "      <th></th>\n",
       "      <th>HP</th>\n",
       "      <th>MPG</th>\n",
       "      <th>VOL</th>\n",
       "      <th>SP</th>\n",
       "      <th>WT</th>\n",
       "    </tr>\n",
       "  </thead>\n",
       "  <tbody>\n",
       "    <tr>\n",
       "      <th>count</th>\n",
       "      <td>81.000000</td>\n",
       "      <td>81.000000</td>\n",
       "      <td>81.000000</td>\n",
       "      <td>81.000000</td>\n",
       "      <td>81.000000</td>\n",
       "    </tr>\n",
       "    <tr>\n",
       "      <th>mean</th>\n",
       "      <td>117.469136</td>\n",
       "      <td>34.422076</td>\n",
       "      <td>98.765432</td>\n",
       "      <td>121.540272</td>\n",
       "      <td>32.412577</td>\n",
       "    </tr>\n",
       "    <tr>\n",
       "      <th>std</th>\n",
       "      <td>57.113502</td>\n",
       "      <td>9.131445</td>\n",
       "      <td>22.301497</td>\n",
       "      <td>14.181432</td>\n",
       "      <td>7.492813</td>\n",
       "    </tr>\n",
       "    <tr>\n",
       "      <th>min</th>\n",
       "      <td>49.000000</td>\n",
       "      <td>12.101263</td>\n",
       "      <td>50.000000</td>\n",
       "      <td>99.564907</td>\n",
       "      <td>15.712859</td>\n",
       "    </tr>\n",
       "    <tr>\n",
       "      <th>25%</th>\n",
       "      <td>84.000000</td>\n",
       "      <td>27.856252</td>\n",
       "      <td>89.000000</td>\n",
       "      <td>113.829145</td>\n",
       "      <td>29.591768</td>\n",
       "    </tr>\n",
       "    <tr>\n",
       "      <th>50%</th>\n",
       "      <td>100.000000</td>\n",
       "      <td>35.152727</td>\n",
       "      <td>101.000000</td>\n",
       "      <td>118.208698</td>\n",
       "      <td>32.734518</td>\n",
       "    </tr>\n",
       "    <tr>\n",
       "      <th>75%</th>\n",
       "      <td>140.000000</td>\n",
       "      <td>39.531633</td>\n",
       "      <td>113.000000</td>\n",
       "      <td>126.404312</td>\n",
       "      <td>37.392524</td>\n",
       "    </tr>\n",
       "    <tr>\n",
       "      <th>max</th>\n",
       "      <td>322.000000</td>\n",
       "      <td>53.700681</td>\n",
       "      <td>160.000000</td>\n",
       "      <td>169.598513</td>\n",
       "      <td>52.997752</td>\n",
       "    </tr>\n",
       "  </tbody>\n",
       "</table>\n",
       "</div>"
      ],
      "text/plain": [
       "               HP        MPG         VOL          SP         WT\n",
       "count   81.000000  81.000000   81.000000   81.000000  81.000000\n",
       "mean   117.469136  34.422076   98.765432  121.540272  32.412577\n",
       "std     57.113502   9.131445   22.301497   14.181432   7.492813\n",
       "min     49.000000  12.101263   50.000000   99.564907  15.712859\n",
       "25%     84.000000  27.856252   89.000000  113.829145  29.591768\n",
       "50%    100.000000  35.152727  101.000000  118.208698  32.734518\n",
       "75%    140.000000  39.531633  113.000000  126.404312  37.392524\n",
       "max    322.000000  53.700681  160.000000  169.598513  52.997752"
      ]
     },
     "execution_count": 7,
     "metadata": {},
     "output_type": "execute_result"
    }
   ],
   "source": [
    "cars_data.describe()"
   ]
  },
  {
   "cell_type": "markdown",
   "id": "536d4fce",
   "metadata": {},
   "source": [
    "## 3.2 ASSUMPTIONS CHECK"
   ]
  },
  {
   "cell_type": "markdown",
   "id": "1b2d8eae",
   "metadata": {},
   "source": [
    "## 1. Linearity Test"
   ]
  },
  {
   "cell_type": "code",
   "execution_count": 11,
   "id": "829465ec",
   "metadata": {},
   "outputs": [
    {
     "data": {
      "image/png": "[encoded data removed]",
      "text/plain": [
       "<Figure size 360x360 with 1 Axes>"
      ]
     },
     "metadata": {
      "needs_background": "light"
     },
     "output_type": "display_data"
    }
   ],
   "source": [
    "sns.lmplot(x='HP',y='MPG',data=cars_data)\n",
    "plt.title('HP Vs MPG')\n",
    "plt.show()"
   ]
  },
  {
   "cell_type": "code",
   "execution_count": 12,
   "id": "c1c94c20",
   "metadata": {},
   "outputs": [
    {
     "data": {
      "image/png": "[encoded data removed]",
      "text/plain": [
       "<Figure size 360x360 with 1 Axes>"
      ]
     },
     "metadata": {
      "needs_background": "light"
     },
     "output_type": "display_data"
    }
   ],
   "source": [
    "sns.lmplot(x='VOL',y='MPG',data=cars_data)\n",
    "plt.title('VOL Vs MPG')\n",
    "plt.show()"
   ]
  },
  {
   "cell_type": "code",
   "execution_count": 13,
   "id": "9bede2cf",
   "metadata": {},
   "outputs": [
    {
     "data": {
      "image/png": "[encoded data removed]",
      "text/plain": [
       "<Figure size 360x360 with 1 Axes>"
      ]
     },
     "metadata": {
      "needs_background": "light"
     },
     "output_type": "display_data"
    }
   ],
   "source": [
    "sns.lmplot(x='WT',y='MPG',data=cars_data)\n",
    "plt.title('WT Vs MPG')\n",
    "plt.show()"
   ]
  },
  {
   "cell_type": "code",
   "execution_count": 14,
   "id": "19d4249b",
   "metadata": {},
   "outputs": [
    {
     "data": {
      "image/png": "[encoded data removed]",
      "text/plain": [
       "<Figure size 360x360 with 1 Axes>"
      ]
     },
     "metadata": {
      "needs_background": "light"
     },
     "output_type": "display_data"
    }
   ],
   "source": [
    "sns.lmplot(x='SP',y='MPG',data=cars_data)\n",
    "plt.title('SP Vs MPG')\n",
    "plt.show()"
   ]
  },
  {
   "cell_type": "markdown",
   "id": "a8fce136",
   "metadata": {},
   "source": [
    "### Linearity Test is Failed."
   ]
  },
  {
   "cell_type": "markdown",
   "id": "203bb60e",
   "metadata": {},
   "source": [
    "## 3.2 Normality Test"
   ]
  },
  {
   "cell_type": "code",
   "execution_count": 17,
   "id": "a906ce63",
   "metadata": {},
   "outputs": [
    {
     "data": {
      "image/png": "[encoded data removed]",
      "text/plain": [
       "<Figure size 432x288 with 1 Axes>"
      ]
     },
     "metadata": {
      "needs_background": "light"
     },
     "output_type": "display_data"
    }
   ],
   "source": [
    "sns.kdeplot(data=cars_data,x='HP')\n",
    "plt.title('HP Distribution')\n",
    "plt.show()"
   ]
  },
  {
   "cell_type": "code",
   "execution_count": 18,
   "id": "45f39cc6",
   "metadata": {},
   "outputs": [
    {
     "data": {
      "image/png": "[encoded data removed]",
      "text/plain": [
       "<Figure size 432x288 with 1 Axes>"
      ]
     },
     "metadata": {
      "needs_background": "light"
     },
     "output_type": "display_data"
    }
   ],
   "source": [
    "sns.kdeplot(data=cars_data,x='SP')\n",
    "plt.title('SP Distribution')\n",
    "plt.show()"
   ]
  },
  {
   "cell_type": "code",
   "execution_count": 19,
   "id": "7382a4cc",
   "metadata": {},
   "outputs": [
    {
     "data": {
      "image/png": "[encoded data removed]",
      "text/plain": [
       "<Figure size 432x288 with 1 Axes>"
      ]
     },
     "metadata": {
      "needs_background": "light"
     },
     "output_type": "display_data"
    }
   ],
   "source": [
    "sns.kdeplot(data=cars_data,x='VOL')\n",
    "plt.title('VOL Distribution')\n",
    "plt.show()"
   ]
  },
  {
   "cell_type": "code",
   "execution_count": 20,
   "id": "51aa2b39",
   "metadata": {},
   "outputs": [
    {
     "data": {
      "image/png": "[encoded data removed]",
      "text/plain": [
       "<Figure size 432x288 with 1 Axes>"
      ]
     },
     "metadata": {
      "needs_background": "light"
     },
     "output_type": "display_data"
    }
   ],
   "source": [
    "sns.kdeplot(data=cars_data,x='WT')\n",
    "plt.title('WT Distribution')\n",
    "plt.show()"
   ]
  },
  {
   "cell_type": "markdown",
   "id": "9b10c35f",
   "metadata": {},
   "source": [
    "### Probplot for Normality Test"
   ]
  },
  {
   "cell_type": "code",
   "execution_count": 88,
   "id": "c1234369",
   "metadata": {},
   "outputs": [
    {
     "data": {
      "image/png": "[encoded data removed]",
      "text/plain": [
       "<Figure size 432x288 with 1 Axes>"
      ]
     },
     "metadata": {
      "needs_background": "light"
     },
     "output_type": "display_data"
    }
   ],
   "source": [
    "from scipy import stats\n",
    "stats.probplot(x = cars_data['HP'],plot = plt)\n",
    "plt.show()"
   ]
  },
  {
   "cell_type": "code",
   "execution_count": 92,
   "id": "c14d479c",
   "metadata": {},
   "outputs": [
    {
     "data": {
      "image/png": "[encoded data removed]",
      "text/plain": [
       "<Figure size 432x288 with 1 Axes>"
      ]
     },
     "metadata": {
      "needs_background": "light"
     },
     "output_type": "display_data"
    }
   ],
   "source": [
    "stats.probplot(x = cars_data_2['log_HP'],plot = plt)\n",
    "plt.show()"
   ]
  },
  {
   "cell_type": "code",
   "execution_count": 89,
   "id": "f59e62c8",
   "metadata": {},
   "outputs": [
    {
     "data": {
      "image/png": "[encoded data removed]",
      "text/plain": [
       "<Figure size 432x288 with 1 Axes>"
      ]
     },
     "metadata": {
      "needs_background": "light"
     },
     "output_type": "display_data"
    }
   ],
   "source": [
    "stats.probplot(x = cars_data['SP'],plot = plt)\n",
    "plt.show()"
   ]
  },
  {
   "cell_type": "code",
   "execution_count": 90,
   "id": "6c16ce1b",
   "metadata": {},
   "outputs": [
    {
     "data": {
      "image/png": "[encoded data removed]",
      "text/plain": [
       "<Figure size 432x288 with 1 Axes>"
      ]
     },
     "metadata": {
      "needs_background": "light"
     },
     "output_type": "display_data"
    }
   ],
   "source": [
    "stats.probplot(x = cars_data['VOL'],plot = plt)\n",
    "plt.show()"
   ]
  },
  {
   "cell_type": "code",
   "execution_count": 91,
   "id": "2b937415",
   "metadata": {},
   "outputs": [
    {
     "data": {
      "image/png": "[encoded data removed]",
      "text/plain": [
       "<Figure size 432x288 with 1 Axes>"
      ]
     },
     "metadata": {
      "needs_background": "light"
     },
     "output_type": "display_data"
    }
   ],
   "source": [
    "stats.probplot(x = cars_data['WT'],plot = plt)\n",
    "plt.show()"
   ]
  },
  {
   "cell_type": "markdown",
   "id": "9ac5465a",
   "metadata": {},
   "source": [
    "### Normality Test is Failed."
   ]
  },
  {
   "cell_type": "markdown",
   "id": "71bcc86c",
   "metadata": {},
   "source": [
    "## 3. No AutoRegression\n",
    "\n",
    "No inputs are showing timedate format. So it passed."
   ]
  },
  {
   "cell_type": "markdown",
   "id": "cda58c61",
   "metadata": {},
   "source": [
    "## 4. No Multicollinearity\n",
    "\n",
    "2 Techniques:\n",
    "1. Correlation Matrix\n",
    "2. VIF Factor"
   ]
  },
  {
   "cell_type": "markdown",
   "id": "071b61b9",
   "metadata": {},
   "source": [
    "#### 4.1 Correlation Matrix "
   ]
  },
  {
   "cell_type": "code",
   "execution_count": 23,
   "id": "11f0c435",
   "metadata": {},
   "outputs": [
    {
     "data": {
      "text/html": [
       "<div>\n",
       "<style scoped>\n",
       "    .dataframe tbody tr th:only-of-type {\n",
       "        vertical-align: middle;\n",
       "    }\n",
       "\n",
       "    .dataframe tbody tr th {\n",
       "        vertical-align: top;\n",
       "    }\n",
       "\n",
       "    .dataframe thead th {\n",
       "        text-align: right;\n",
       "    }\n",
       "</style>\n",
       "<table border=\"1\" class=\"dataframe\">\n",
       "  <thead>\n",
       "    <tr style=\"text-align: right;\">\n",
       "      <th></th>\n",
       "      <th>HP</th>\n",
       "      <th>MPG</th>\n",
       "      <th>VOL</th>\n",
       "      <th>SP</th>\n",
       "      <th>WT</th>\n",
       "    </tr>\n",
       "  </thead>\n",
       "  <tbody>\n",
       "    <tr>\n",
       "      <th>HP</th>\n",
       "      <td>1.00</td>\n",
       "      <td>-0.73</td>\n",
       "      <td>0.08</td>\n",
       "      <td>0.97</td>\n",
       "      <td>0.08</td>\n",
       "    </tr>\n",
       "    <tr>\n",
       "      <th>MPG</th>\n",
       "      <td>-0.73</td>\n",
       "      <td>1.00</td>\n",
       "      <td>-0.53</td>\n",
       "      <td>-0.69</td>\n",
       "      <td>-0.53</td>\n",
       "    </tr>\n",
       "    <tr>\n",
       "      <th>VOL</th>\n",
       "      <td>0.08</td>\n",
       "      <td>-0.53</td>\n",
       "      <td>1.00</td>\n",
       "      <td>0.10</td>\n",
       "      <td>1.00</td>\n",
       "    </tr>\n",
       "    <tr>\n",
       "      <th>SP</th>\n",
       "      <td>0.97</td>\n",
       "      <td>-0.69</td>\n",
       "      <td>0.10</td>\n",
       "      <td>1.00</td>\n",
       "      <td>0.10</td>\n",
       "    </tr>\n",
       "    <tr>\n",
       "      <th>WT</th>\n",
       "      <td>0.08</td>\n",
       "      <td>-0.53</td>\n",
       "      <td>1.00</td>\n",
       "      <td>0.10</td>\n",
       "      <td>1.00</td>\n",
       "    </tr>\n",
       "  </tbody>\n",
       "</table>\n",
       "</div>"
      ],
      "text/plain": [
       "       HP   MPG   VOL    SP    WT\n",
       "HP   1.00 -0.73  0.08  0.97  0.08\n",
       "MPG -0.73  1.00 -0.53 -0.69 -0.53\n",
       "VOL  0.08 -0.53  1.00  0.10  1.00\n",
       "SP   0.97 -0.69  0.10  1.00  0.10\n",
       "WT   0.08 -0.53  1.00  0.10  1.00"
      ]
     },
     "execution_count": 23,
     "metadata": {},
     "output_type": "execute_result"
    }
   ],
   "source": [
    "corr_matrix = cars_data.corr().round(2)\n",
    "corr_matrix"
   ]
  },
  {
   "cell_type": "code",
   "execution_count": 26,
   "id": "391b5ac3",
   "metadata": {},
   "outputs": [
    {
     "data": {
      "image/png": "[encoded data removed]",
      "text/plain": [
       "<Figure size 432x288 with 2 Axes>"
      ]
     },
     "metadata": {
      "needs_background": "light"
     },
     "output_type": "display_data"
    }
   ],
   "source": [
    "sns.heatmap(data = corr_matrix,annot=True)\n",
    "plt.show()"
   ]
  },
  {
   "cell_type": "markdown",
   "id": "366467a3",
   "metadata": {},
   "source": [
    "## 5. Homoscedasticity Check || 6. Zero Residual Mean Check\n",
    "\n",
    "This will be performed post Model Training because we need the **errors.**"
   ]
  },
  {
   "cell_type": "markdown",
   "id": "f456cfab",
   "metadata": {},
   "source": [
    "## ========================================================================"
   ]
  },
  {
   "cell_type": "markdown",
   "id": "b0e7a855",
   "metadata": {},
   "source": [
    "# REFERENCE DATA TO UNDERSTAND HOW ASSUMPTIONS SHOULD MATCH WITH THE DATA:"
   ]
  },
  {
   "cell_type": "code",
   "execution_count": 27,
   "id": "66a7998e",
   "metadata": {},
   "outputs": [],
   "source": [
    "import numpy as np"
   ]
  },
  {
   "cell_type": "code",
   "execution_count": 77,
   "id": "5ee8f30c",
   "metadata": {},
   "outputs": [],
   "source": [
    "X = np.random.randn(81)\n",
    "y = 10*X + np.random.randn(81)*2"
   ]
  },
  {
   "cell_type": "code",
   "execution_count": 78,
   "id": "8f5b70ff",
   "metadata": {},
   "outputs": [
    {
     "data": {
      "text/html": [
       "<div>\n",
       "<style scoped>\n",
       "    .dataframe tbody tr th:only-of-type {\n",
       "        vertical-align: middle;\n",
       "    }\n",
       "\n",
       "    .dataframe tbody tr th {\n",
       "        vertical-align: top;\n",
       "    }\n",
       "\n",
       "    .dataframe thead th {\n",
       "        text-align: right;\n",
       "    }\n",
       "</style>\n",
       "<table border=\"1\" class=\"dataframe\">\n",
       "  <thead>\n",
       "    <tr style=\"text-align: right;\">\n",
       "      <th></th>\n",
       "      <th>X</th>\n",
       "      <th>y</th>\n",
       "    </tr>\n",
       "  </thead>\n",
       "  <tbody>\n",
       "    <tr>\n",
       "      <th>0</th>\n",
       "      <td>0.140794</td>\n",
       "      <td>0.155281</td>\n",
       "    </tr>\n",
       "    <tr>\n",
       "      <th>1</th>\n",
       "      <td>-0.236023</td>\n",
       "      <td>-2.425947</td>\n",
       "    </tr>\n",
       "    <tr>\n",
       "      <th>2</th>\n",
       "      <td>-0.797431</td>\n",
       "      <td>-8.544417</td>\n",
       "    </tr>\n",
       "    <tr>\n",
       "      <th>3</th>\n",
       "      <td>-0.140570</td>\n",
       "      <td>-0.841069</td>\n",
       "    </tr>\n",
       "    <tr>\n",
       "      <th>4</th>\n",
       "      <td>0.384604</td>\n",
       "      <td>1.364256</td>\n",
       "    </tr>\n",
       "    <tr>\n",
       "      <th>...</th>\n",
       "      <td>...</td>\n",
       "      <td>...</td>\n",
       "    </tr>\n",
       "    <tr>\n",
       "      <th>76</th>\n",
       "      <td>-0.234063</td>\n",
       "      <td>-1.127561</td>\n",
       "    </tr>\n",
       "    <tr>\n",
       "      <th>77</th>\n",
       "      <td>-0.566514</td>\n",
       "      <td>-4.770561</td>\n",
       "    </tr>\n",
       "    <tr>\n",
       "      <th>78</th>\n",
       "      <td>-0.003044</td>\n",
       "      <td>-1.172337</td>\n",
       "    </tr>\n",
       "    <tr>\n",
       "      <th>79</th>\n",
       "      <td>-0.444497</td>\n",
       "      <td>-1.865769</td>\n",
       "    </tr>\n",
       "    <tr>\n",
       "      <th>80</th>\n",
       "      <td>-0.589044</td>\n",
       "      <td>-4.984259</td>\n",
       "    </tr>\n",
       "  </tbody>\n",
       "</table>\n",
       "<p>81 rows × 2 columns</p>\n",
       "</div>"
      ],
      "text/plain": [
       "           X         y\n",
       "0   0.140794  0.155281\n",
       "1  -0.236023 -2.425947\n",
       "2  -0.797431 -8.544417\n",
       "3  -0.140570 -0.841069\n",
       "4   0.384604  1.364256\n",
       "..       ...       ...\n",
       "76 -0.234063 -1.127561\n",
       "77 -0.566514 -4.770561\n",
       "78 -0.003044 -1.172337\n",
       "79 -0.444497 -1.865769\n",
       "80 -0.589044 -4.984259\n",
       "\n",
       "[81 rows x 2 columns]"
      ]
     },
     "execution_count": 78,
     "metadata": {},
     "output_type": "execute_result"
    }
   ],
   "source": [
    "demo_data = pd.DataFrame(data = [X,y]).T\n",
    "demo_data.columns = ['X','y']\n",
    "demo_data"
   ]
  },
  {
   "cell_type": "markdown",
   "id": "91ee288f",
   "metadata": {},
   "source": [
    "### 1. Linearity Test"
   ]
  },
  {
   "cell_type": "code",
   "execution_count": 79,
   "id": "21a373a2",
   "metadata": {},
   "outputs": [
    {
     "data": {
      "text/plain": [
       "<seaborn.axisgrid.FacetGrid at 0x1ad24aafd60>"
      ]
     },
     "execution_count": 79,
     "metadata": {},
     "output_type": "execute_result"
    },
    {
     "data": {
      "image/png": "[encoded data removed]",
      "text/plain": [
       "<Figure size 360x360 with 1 Axes>"
      ]
     },
     "metadata": {
      "needs_background": "light"
     },
     "output_type": "display_data"
    }
   ],
   "source": [
    "sns.lmplot(x='X', y='y', data=demo_data)"
   ]
  },
  {
   "cell_type": "markdown",
   "id": "cb05b96e",
   "metadata": {},
   "source": [
    "### Linearity Test is Passed."
   ]
  },
  {
   "cell_type": "markdown",
   "id": "469c5cb7",
   "metadata": {},
   "source": [
    "### 2. Normality Test"
   ]
  },
  {
   "cell_type": "code",
   "execution_count": 80,
   "id": "9f33404f",
   "metadata": {},
   "outputs": [
    {
     "data": {
      "text/plain": [
       "<AxesSubplot:xlabel='X', ylabel='Density'>"
      ]
     },
     "execution_count": 80,
     "metadata": {},
     "output_type": "execute_result"
    },
    {
     "data": {
      "image/png": "[encoded data removed]",
      "text/plain": [
       "<Figure size 432x288 with 1 Axes>"
      ]
     },
     "metadata": {
      "needs_background": "light"
     },
     "output_type": "display_data"
    }
   ],
   "source": [
    "sns.kdeplot(x = 'X', data = demo_data)"
   ]
  },
  {
   "cell_type": "code",
   "execution_count": 86,
   "id": "1f4c22f8",
   "metadata": {},
   "outputs": [
    {
     "data": {
      "image/png": "[encoded data removed]",
      "text/plain": [
       "<Figure size 432x288 with 1 Axes>"
      ]
     },
     "metadata": {
      "needs_background": "light"
     },
     "output_type": "display_data"
    }
   ],
   "source": [
    "from scipy import stats\n",
    "stats.probplot(x = demo_data['X'] ,dist = 'norm',plot=plt) #qqplot\n",
    "plt.show()"
   ]
  },
  {
   "cell_type": "code",
   "execution_count": 47,
   "id": "a05ded8e",
   "metadata": {},
   "outputs": [
    {
     "data": {
      "text/plain": [
       "-0.26327354125880476"
      ]
     },
     "execution_count": 47,
     "metadata": {},
     "output_type": "execute_result"
    }
   ],
   "source": [
    "demo_data['X'].skew()"
   ]
  },
  {
   "cell_type": "code",
   "execution_count": 48,
   "id": "3d97ce7b",
   "metadata": {},
   "outputs": [
    {
     "data": {
      "text/plain": [
       "0.12504104083602696"
      ]
     },
     "execution_count": 48,
     "metadata": {},
     "output_type": "execute_result"
    }
   ],
   "source": [
    "demo_data['X'].kurt()"
   ]
  },
  {
   "cell_type": "markdown",
   "id": "4237c3a6",
   "metadata": {},
   "source": [
    "### Normality Test is Passed."
   ]
  },
  {
   "cell_type": "markdown",
   "id": "04fa0c75",
   "metadata": {},
   "source": [
    "# 4. Model Building"
   ]
  },
  {
   "cell_type": "code",
   "execution_count": 51,
   "id": "f0be0bd5",
   "metadata": {},
   "outputs": [],
   "source": [
    "X = demo_data[['X']]\n",
    "y = demo_data[['y']]"
   ]
  },
  {
   "cell_type": "markdown",
   "id": "86770d38",
   "metadata": {},
   "source": [
    "# 5. Model Training"
   ]
  },
  {
   "cell_type": "code",
   "execution_count": 52,
   "id": "100caa3f",
   "metadata": {},
   "outputs": [],
   "source": [
    "from sklearn.linear_model import LinearRegression"
   ]
  },
  {
   "cell_type": "code",
   "execution_count": 53,
   "id": "577c28c3",
   "metadata": {},
   "outputs": [],
   "source": [
    "linear_model = LinearRegression() #Object #Model Initialization"
   ]
  },
  {
   "cell_type": "code",
   "execution_count": 54,
   "id": "df67435e",
   "metadata": {},
   "outputs": [
    {
     "data": {
      "text/plain": [
       "LinearRegression()"
      ]
     },
     "execution_count": 54,
     "metadata": {},
     "output_type": "execute_result"
    }
   ],
   "source": [
    "linear_model.fit(X,y)"
   ]
  },
  {
   "cell_type": "code",
   "execution_count": 55,
   "id": "1629e3b5",
   "metadata": {},
   "outputs": [
    {
     "data": {
      "text/plain": [
       "array([[9.98635534]])"
      ]
     },
     "execution_count": 55,
     "metadata": {},
     "output_type": "execute_result"
    }
   ],
   "source": [
    "linear_model.coef_"
   ]
  },
  {
   "cell_type": "code",
   "execution_count": 56,
   "id": "d0a2f436",
   "metadata": {},
   "outputs": [
    {
     "data": {
      "text/plain": [
       "array([0.30238158])"
      ]
     },
     "execution_count": 56,
     "metadata": {},
     "output_type": "execute_result"
    }
   ],
   "source": [
    "linear_model.intercept_"
   ]
  },
  {
   "cell_type": "markdown",
   "id": "90efddcd",
   "metadata": {},
   "source": [
    "# 6. Model Testing"
   ]
  },
  {
   "cell_type": "code",
   "execution_count": 58,
   "id": "4f3baf70",
   "metadata": {},
   "outputs": [
    {
     "data": {
      "text/html": [
       "<div>\n",
       "<style scoped>\n",
       "    .dataframe tbody tr th:only-of-type {\n",
       "        vertical-align: middle;\n",
       "    }\n",
       "\n",
       "    .dataframe tbody tr th {\n",
       "        vertical-align: top;\n",
       "    }\n",
       "\n",
       "    .dataframe thead th {\n",
       "        text-align: right;\n",
       "    }\n",
       "</style>\n",
       "<table border=\"1\" class=\"dataframe\">\n",
       "  <thead>\n",
       "    <tr style=\"text-align: right;\">\n",
       "      <th></th>\n",
       "      <th>y</th>\n",
       "    </tr>\n",
       "  </thead>\n",
       "  <tbody>\n",
       "    <tr>\n",
       "      <th>0</th>\n",
       "      <td>-7.183552</td>\n",
       "    </tr>\n",
       "    <tr>\n",
       "      <th>1</th>\n",
       "      <td>7.925877</td>\n",
       "    </tr>\n",
       "    <tr>\n",
       "      <th>2</th>\n",
       "      <td>-1.807197</td>\n",
       "    </tr>\n",
       "    <tr>\n",
       "      <th>3</th>\n",
       "      <td>6.409147</td>\n",
       "    </tr>\n",
       "    <tr>\n",
       "      <th>4</th>\n",
       "      <td>2.276093</td>\n",
       "    </tr>\n",
       "    <tr>\n",
       "      <th>...</th>\n",
       "      <td>...</td>\n",
       "    </tr>\n",
       "    <tr>\n",
       "      <th>76</th>\n",
       "      <td>-1.550350</td>\n",
       "    </tr>\n",
       "    <tr>\n",
       "      <th>77</th>\n",
       "      <td>1.333167</td>\n",
       "    </tr>\n",
       "    <tr>\n",
       "      <th>78</th>\n",
       "      <td>23.107207</td>\n",
       "    </tr>\n",
       "    <tr>\n",
       "      <th>79</th>\n",
       "      <td>2.558277</td>\n",
       "    </tr>\n",
       "    <tr>\n",
       "      <th>80</th>\n",
       "      <td>-1.523927</td>\n",
       "    </tr>\n",
       "  </tbody>\n",
       "</table>\n",
       "<p>81 rows × 1 columns</p>\n",
       "</div>"
      ],
      "text/plain": [
       "            y\n",
       "0   -7.183552\n",
       "1    7.925877\n",
       "2   -1.807197\n",
       "3    6.409147\n",
       "4    2.276093\n",
       "..        ...\n",
       "76  -1.550350\n",
       "77   1.333167\n",
       "78  23.107207\n",
       "79   2.558277\n",
       "80  -1.523927\n",
       "\n",
       "[81 rows x 1 columns]"
      ]
     },
     "execution_count": 58,
     "metadata": {},
     "output_type": "execute_result"
    }
   ],
   "source": [
    "y"
   ]
  },
  {
   "cell_type": "code",
   "execution_count": 59,
   "id": "cb96f468",
   "metadata": {},
   "outputs": [],
   "source": [
    "y_pred = linear_model.predict(X)"
   ]
  },
  {
   "cell_type": "markdown",
   "id": "b3e74e70",
   "metadata": {},
   "source": [
    "## 7. Model Evaluation"
   ]
  },
  {
   "cell_type": "code",
   "execution_count": 61,
   "id": "2c472118",
   "metadata": {},
   "outputs": [
    {
     "data": {
      "text/html": [
       "<div>\n",
       "<style scoped>\n",
       "    .dataframe tbody tr th:only-of-type {\n",
       "        vertical-align: middle;\n",
       "    }\n",
       "\n",
       "    .dataframe tbody tr th {\n",
       "        vertical-align: top;\n",
       "    }\n",
       "\n",
       "    .dataframe thead th {\n",
       "        text-align: right;\n",
       "    }\n",
       "</style>\n",
       "<table border=\"1\" class=\"dataframe\">\n",
       "  <thead>\n",
       "    <tr style=\"text-align: right;\">\n",
       "      <th></th>\n",
       "      <th>y</th>\n",
       "    </tr>\n",
       "  </thead>\n",
       "  <tbody>\n",
       "    <tr>\n",
       "      <th>0</th>\n",
       "      <td>-0.743591</td>\n",
       "    </tr>\n",
       "    <tr>\n",
       "      <th>1</th>\n",
       "      <td>2.815762</td>\n",
       "    </tr>\n",
       "    <tr>\n",
       "      <th>2</th>\n",
       "      <td>-0.681302</td>\n",
       "    </tr>\n",
       "    <tr>\n",
       "      <th>3</th>\n",
       "      <td>3.514755</td>\n",
       "    </tr>\n",
       "    <tr>\n",
       "      <th>4</th>\n",
       "      <td>0.611925</td>\n",
       "    </tr>\n",
       "    <tr>\n",
       "      <th>...</th>\n",
       "      <td>...</td>\n",
       "    </tr>\n",
       "    <tr>\n",
       "      <th>76</th>\n",
       "      <td>2.045809</td>\n",
       "    </tr>\n",
       "    <tr>\n",
       "      <th>77</th>\n",
       "      <td>1.300039</td>\n",
       "    </tr>\n",
       "    <tr>\n",
       "      <th>78</th>\n",
       "      <td>2.518826</td>\n",
       "    </tr>\n",
       "    <tr>\n",
       "      <th>79</th>\n",
       "      <td>1.544043</td>\n",
       "    </tr>\n",
       "    <tr>\n",
       "      <th>80</th>\n",
       "      <td>-0.661553</td>\n",
       "    </tr>\n",
       "  </tbody>\n",
       "</table>\n",
       "<p>81 rows × 1 columns</p>\n",
       "</div>"
      ],
      "text/plain": [
       "           y\n",
       "0  -0.743591\n",
       "1   2.815762\n",
       "2  -0.681302\n",
       "3   3.514755\n",
       "4   0.611925\n",
       "..       ...\n",
       "76  2.045809\n",
       "77  1.300039\n",
       "78  2.518826\n",
       "79  1.544043\n",
       "80 -0.661553\n",
       "\n",
       "[81 rows x 1 columns]"
      ]
     },
     "execution_count": 61,
     "metadata": {},
     "output_type": "execute_result"
    }
   ],
   "source": [
    "error = y - y_pred\n",
    "error"
   ]
  },
  {
   "cell_type": "markdown",
   "id": "5c849c18",
   "metadata": {},
   "source": [
    "## .....back to Assumption Check"
   ]
  },
  {
   "cell_type": "markdown",
   "id": "6f170641",
   "metadata": {},
   "source": [
    "## Homoscedasticity Check"
   ]
  },
  {
   "cell_type": "code",
   "execution_count": 63,
   "id": "6e8eea99",
   "metadata": {},
   "outputs": [
    {
     "data": {
      "text/html": [
       "<div>\n",
       "<style scoped>\n",
       "    .dataframe tbody tr th:only-of-type {\n",
       "        vertical-align: middle;\n",
       "    }\n",
       "\n",
       "    .dataframe tbody tr th {\n",
       "        vertical-align: top;\n",
       "    }\n",
       "\n",
       "    .dataframe thead th {\n",
       "        text-align: right;\n",
       "    }\n",
       "</style>\n",
       "<table border=\"1\" class=\"dataframe\">\n",
       "  <thead>\n",
       "    <tr style=\"text-align: right;\">\n",
       "      <th></th>\n",
       "      <th>X</th>\n",
       "    </tr>\n",
       "  </thead>\n",
       "  <tbody>\n",
       "    <tr>\n",
       "      <th>0</th>\n",
       "      <td>-0.675155</td>\n",
       "    </tr>\n",
       "    <tr>\n",
       "      <th>1</th>\n",
       "      <td>0.481430</td>\n",
       "    </tr>\n",
       "    <tr>\n",
       "      <th>2</th>\n",
       "      <td>-0.143023</td>\n",
       "    </tr>\n",
       "    <tr>\n",
       "      <th>3</th>\n",
       "      <td>0.259555</td>\n",
       "    </tr>\n",
       "    <tr>\n",
       "      <th>4</th>\n",
       "      <td>0.136365</td>\n",
       "    </tr>\n",
       "    <tr>\n",
       "      <th>...</th>\n",
       "      <td>...</td>\n",
       "    </tr>\n",
       "    <tr>\n",
       "      <th>76</th>\n",
       "      <td>-0.390387</td>\n",
       "    </tr>\n",
       "    <tr>\n",
       "      <th>77</th>\n",
       "      <td>-0.026962</td>\n",
       "    </tr>\n",
       "    <tr>\n",
       "      <th>78</th>\n",
       "      <td>2.031372</td>\n",
       "    </tr>\n",
       "    <tr>\n",
       "      <th>79</th>\n",
       "      <td>0.071283</td>\n",
       "    </tr>\n",
       "    <tr>\n",
       "      <th>80</th>\n",
       "      <td>-0.116635</td>\n",
       "    </tr>\n",
       "  </tbody>\n",
       "</table>\n",
       "<p>81 rows × 1 columns</p>\n",
       "</div>"
      ],
      "text/plain": [
       "           X\n",
       "0  -0.675155\n",
       "1   0.481430\n",
       "2  -0.143023\n",
       "3   0.259555\n",
       "4   0.136365\n",
       "..       ...\n",
       "76 -0.390387\n",
       "77 -0.026962\n",
       "78  2.031372\n",
       "79  0.071283\n",
       "80 -0.116635\n",
       "\n",
       "[81 rows x 1 columns]"
      ]
     },
     "execution_count": 63,
     "metadata": {},
     "output_type": "execute_result"
    }
   ],
   "source": [
    "X"
   ]
  },
  {
   "cell_type": "code",
   "execution_count": 64,
   "id": "3cd982d4",
   "metadata": {},
   "outputs": [
    {
     "data": {
      "text/html": [
       "<div>\n",
       "<style scoped>\n",
       "    .dataframe tbody tr th:only-of-type {\n",
       "        vertical-align: middle;\n",
       "    }\n",
       "\n",
       "    .dataframe tbody tr th {\n",
       "        vertical-align: top;\n",
       "    }\n",
       "\n",
       "    .dataframe thead th {\n",
       "        text-align: right;\n",
       "    }\n",
       "</style>\n",
       "<table border=\"1\" class=\"dataframe\">\n",
       "  <thead>\n",
       "    <tr style=\"text-align: right;\">\n",
       "      <th></th>\n",
       "      <th>y</th>\n",
       "    </tr>\n",
       "  </thead>\n",
       "  <tbody>\n",
       "    <tr>\n",
       "      <th>0</th>\n",
       "      <td>-0.743591</td>\n",
       "    </tr>\n",
       "    <tr>\n",
       "      <th>1</th>\n",
       "      <td>2.815762</td>\n",
       "    </tr>\n",
       "    <tr>\n",
       "      <th>2</th>\n",
       "      <td>-0.681302</td>\n",
       "    </tr>\n",
       "    <tr>\n",
       "      <th>3</th>\n",
       "      <td>3.514755</td>\n",
       "    </tr>\n",
       "    <tr>\n",
       "      <th>4</th>\n",
       "      <td>0.611925</td>\n",
       "    </tr>\n",
       "    <tr>\n",
       "      <th>...</th>\n",
       "      <td>...</td>\n",
       "    </tr>\n",
       "    <tr>\n",
       "      <th>76</th>\n",
       "      <td>2.045809</td>\n",
       "    </tr>\n",
       "    <tr>\n",
       "      <th>77</th>\n",
       "      <td>1.300039</td>\n",
       "    </tr>\n",
       "    <tr>\n",
       "      <th>78</th>\n",
       "      <td>2.518826</td>\n",
       "    </tr>\n",
       "    <tr>\n",
       "      <th>79</th>\n",
       "      <td>1.544043</td>\n",
       "    </tr>\n",
       "    <tr>\n",
       "      <th>80</th>\n",
       "      <td>-0.661553</td>\n",
       "    </tr>\n",
       "  </tbody>\n",
       "</table>\n",
       "<p>81 rows × 1 columns</p>\n",
       "</div>"
      ],
      "text/plain": [
       "           y\n",
       "0  -0.743591\n",
       "1   2.815762\n",
       "2  -0.681302\n",
       "3   3.514755\n",
       "4   0.611925\n",
       "..       ...\n",
       "76  2.045809\n",
       "77  1.300039\n",
       "78  2.518826\n",
       "79  1.544043\n",
       "80 -0.661553\n",
       "\n",
       "[81 rows x 1 columns]"
      ]
     },
     "execution_count": 64,
     "metadata": {},
     "output_type": "execute_result"
    }
   ],
   "source": [
    "error"
   ]
  },
  {
   "cell_type": "code",
   "execution_count": 66,
   "id": "171f63b2",
   "metadata": {},
   "outputs": [
    {
     "data": {
      "image/png": "[encoded data removed]",
      "text/plain": [
       "<Figure size 432x288 with 1 Axes>"
      ]
     },
     "metadata": {
      "needs_background": "light"
     },
     "output_type": "display_data"
    }
   ],
   "source": [
    "plt.scatter(x=demo_data['X'],y=error)\n",
    "plt.title('X Vs Error')\n",
    "plt.xlabel('X')\n",
    "plt.ylabel('Error')\n",
    "plt.show()"
   ]
  },
  {
   "cell_type": "markdown",
   "id": "9c1b3d0a",
   "metadata": {},
   "source": [
    "### Homoscedasticity Check is passed."
   ]
  },
  {
   "cell_type": "markdown",
   "id": "709f754b",
   "metadata": {},
   "source": [
    "## Zero Residual Mean across the Fitted Line."
   ]
  },
  {
   "cell_type": "code",
   "execution_count": 67,
   "id": "18aff033",
   "metadata": {},
   "outputs": [
    {
     "data": {
      "image/png": "[encoded data removed]",
      "text/plain": [
       "<Figure size 432x288 with 1 Axes>"
      ]
     },
     "metadata": {
      "needs_background": "light"
     },
     "output_type": "display_data"
    }
   ],
   "source": [
    "plt.scatter(x=demo_data['y'],y=y_pred)\n",
    "plt.title('Actual O/P Vs Predicted O/p')\n",
    "plt.xlabel('Actual O/P')\n",
    "plt.ylabel('Predicted O/p')\n",
    "plt.show()"
   ]
  },
  {
   "cell_type": "markdown",
   "id": "458f5b3d",
   "metadata": {},
   "source": [
    "## ========================================================================"
   ]
  },
  {
   "cell_type": "markdown",
   "id": "fecb0c13",
   "metadata": {},
   "source": [
    "# 4. Model Building"
   ]
  },
  {
   "cell_type": "code",
   "execution_count": 3,
   "id": "953e9abf",
   "metadata": {},
   "outputs": [],
   "source": [
    "X = cars_data.drop('MPG',axis=1)\n",
    "y = cars_data[['MPG']]"
   ]
  },
  {
   "cell_type": "markdown",
   "id": "2f1ea4b6",
   "metadata": {},
   "source": [
    "# 5. Model Training"
   ]
  },
  {
   "cell_type": "code",
   "execution_count": 71,
   "id": "348f0a2c",
   "metadata": {},
   "outputs": [],
   "source": [
    "from sklearn.linear_model import LinearRegression"
   ]
  },
  {
   "cell_type": "code",
   "execution_count": 72,
   "id": "3e58e466",
   "metadata": {},
   "outputs": [],
   "source": [
    "linear_model = LinearRegression() #Object #Model Initialization"
   ]
  },
  {
   "cell_type": "code",
   "execution_count": 73,
   "id": "6785d7b7",
   "metadata": {},
   "outputs": [
    {
     "data": {
      "text/plain": [
       "LinearRegression()"
      ]
     },
     "execution_count": 73,
     "metadata": {},
     "output_type": "execute_result"
    }
   ],
   "source": [
    "linear_model.fit(X,y)"
   ]
  },
  {
   "cell_type": "code",
   "execution_count": 74,
   "id": "d7ef26fb",
   "metadata": {},
   "outputs": [
    {
     "data": {
      "text/plain": [
       "array([[-0.20544372, -0.33605084,  0.39562692,  0.40057409]])"
      ]
     },
     "execution_count": 74,
     "metadata": {},
     "output_type": "execute_result"
    }
   ],
   "source": [
    "linear_model.coef_"
   ]
  },
  {
   "cell_type": "code",
   "execution_count": 75,
   "id": "7e09497a",
   "metadata": {},
   "outputs": [
    {
     "data": {
      "text/plain": [
       "array([30.67733585])"
      ]
     },
     "execution_count": 75,
     "metadata": {},
     "output_type": "execute_result"
    }
   ],
   "source": [
    "linear_model.intercept_"
   ]
  },
  {
   "cell_type": "markdown",
   "id": "64754070",
   "metadata": {},
   "source": [
    "# 6. Model Testing"
   ]
  },
  {
   "cell_type": "code",
   "execution_count": 76,
   "id": "e88ec897",
   "metadata": {},
   "outputs": [
    {
     "data": {
      "text/html": [
       "<div>\n",
       "<style scoped>\n",
       "    .dataframe tbody tr th:only-of-type {\n",
       "        vertical-align: middle;\n",
       "    }\n",
       "\n",
       "    .dataframe tbody tr th {\n",
       "        vertical-align: top;\n",
       "    }\n",
       "\n",
       "    .dataframe thead th {\n",
       "        text-align: right;\n",
       "    }\n",
       "</style>\n",
       "<table border=\"1\" class=\"dataframe\">\n",
       "  <thead>\n",
       "    <tr style=\"text-align: right;\">\n",
       "      <th></th>\n",
       "      <th>MPG</th>\n",
       "    </tr>\n",
       "  </thead>\n",
       "  <tbody>\n",
       "    <tr>\n",
       "      <th>0</th>\n",
       "      <td>53.700681</td>\n",
       "    </tr>\n",
       "    <tr>\n",
       "      <th>1</th>\n",
       "      <td>50.013401</td>\n",
       "    </tr>\n",
       "    <tr>\n",
       "      <th>2</th>\n",
       "      <td>50.013401</td>\n",
       "    </tr>\n",
       "    <tr>\n",
       "      <th>3</th>\n",
       "      <td>45.696322</td>\n",
       "    </tr>\n",
       "    <tr>\n",
       "      <th>4</th>\n",
       "      <td>50.504232</td>\n",
       "    </tr>\n",
       "    <tr>\n",
       "      <th>...</th>\n",
       "      <td>...</td>\n",
       "    </tr>\n",
       "    <tr>\n",
       "      <th>76</th>\n",
       "      <td>36.900000</td>\n",
       "    </tr>\n",
       "    <tr>\n",
       "      <th>77</th>\n",
       "      <td>19.197888</td>\n",
       "    </tr>\n",
       "    <tr>\n",
       "      <th>78</th>\n",
       "      <td>34.000000</td>\n",
       "    </tr>\n",
       "    <tr>\n",
       "      <th>79</th>\n",
       "      <td>19.833733</td>\n",
       "    </tr>\n",
       "    <tr>\n",
       "      <th>80</th>\n",
       "      <td>12.101263</td>\n",
       "    </tr>\n",
       "  </tbody>\n",
       "</table>\n",
       "<p>81 rows × 1 columns</p>\n",
       "</div>"
      ],
      "text/plain": [
       "          MPG\n",
       "0   53.700681\n",
       "1   50.013401\n",
       "2   50.013401\n",
       "3   45.696322\n",
       "4   50.504232\n",
       "..        ...\n",
       "76  36.900000\n",
       "77  19.197888\n",
       "78  34.000000\n",
       "79  19.833733\n",
       "80  12.101263\n",
       "\n",
       "[81 rows x 1 columns]"
      ]
     },
     "execution_count": 76,
     "metadata": {},
     "output_type": "execute_result"
    }
   ],
   "source": [
    "y"
   ]
  },
  {
   "cell_type": "code",
   "execution_count": 77,
   "id": "f0c82cc5",
   "metadata": {},
   "outputs": [
    {
     "data": {
      "text/plain": [
       "array([[43.44193477],\n",
       "       [42.38879289],\n",
       "       [42.27934147],\n",
       "       [42.53835981],\n",
       "       [42.17264802],\n",
       "       [43.02061916],\n",
       "       [42.32536062],\n",
       "       [48.07621852],\n",
       "       [48.28120247],\n",
       "       [40.79122814],\n",
       "       [41.52153227],\n",
       "       [47.80956747],\n",
       "       [39.95980269],\n",
       "       [41.52757889],\n",
       "       [41.76632332],\n",
       "       [41.6181448 ],\n",
       "       [41.15094046],\n",
       "       [47.98605515],\n",
       "       [41.30861046],\n",
       "       [37.87127922],\n",
       "       [38.57706414],\n",
       "       [37.35199705],\n",
       "       [37.89770285],\n",
       "       [39.5625144 ],\n",
       "       [39.93380662],\n",
       "       [46.73870908],\n",
       "       [35.48165898],\n",
       "       [38.78152504],\n",
       "       [38.24861192],\n",
       "       [36.00285298],\n",
       "       [34.84603989],\n",
       "       [37.21630246],\n",
       "       [37.13919796],\n",
       "       [34.82541399],\n",
       "       [37.22361389],\n",
       "       [37.53950097],\n",
       "       [39.27144845],\n",
       "       [38.24219888],\n",
       "       [38.54286458],\n",
       "       [35.9391722 ],\n",
       "       [34.2129755 ],\n",
       "       [35.36313259],\n",
       "       [37.50473376],\n",
       "       [38.07998482],\n",
       "       [35.79651664],\n",
       "       [36.2613377 ],\n",
       "       [34.21826465],\n",
       "       [35.59393404],\n",
       "       [36.91805291],\n",
       "       [33.31108154],\n",
       "       [33.21313413],\n",
       "       [33.3023649 ],\n",
       "       [29.19864884],\n",
       "       [27.52358579],\n",
       "       [28.3207133 ],\n",
       "       [28.56722621],\n",
       "       [35.81583602],\n",
       "       [33.02108459],\n",
       "       [35.37334971],\n",
       "       [32.29909503],\n",
       "       [29.87685849],\n",
       "       [28.76093817],\n",
       "       [25.14188416],\n",
       "       [26.47040896],\n",
       "       [25.97651933],\n",
       "       [36.35652478],\n",
       "       [26.0975912 ],\n",
       "       [23.6416178 ],\n",
       "       [24.39887199],\n",
       "       [20.21195358],\n",
       "       [27.80846468],\n",
       "       [22.44206834],\n",
       "       [23.07667801],\n",
       "       [18.717314  ],\n",
       "       [23.84934696],\n",
       "       [21.07461275],\n",
       "       [21.28209598],\n",
       "       [17.89904991],\n",
       "       [26.13645315],\n",
       "       [12.31661154],\n",
       "       [15.55948057]])"
      ]
     },
     "execution_count": 77,
     "metadata": {},
     "output_type": "execute_result"
    }
   ],
   "source": [
    "y_pred = linear_model.predict(X)\n",
    "y_pred"
   ]
  },
  {
   "cell_type": "markdown",
   "id": "8264bad2",
   "metadata": {},
   "source": [
    "## 7. Model Evaluation"
   ]
  },
  {
   "cell_type": "code",
   "execution_count": 78,
   "id": "909a5271",
   "metadata": {},
   "outputs": [
    {
     "data": {
      "text/html": [
       "<div>\n",
       "<style scoped>\n",
       "    .dataframe tbody tr th:only-of-type {\n",
       "        vertical-align: middle;\n",
       "    }\n",
       "\n",
       "    .dataframe tbody tr th {\n",
       "        vertical-align: top;\n",
       "    }\n",
       "\n",
       "    .dataframe thead th {\n",
       "        text-align: right;\n",
       "    }\n",
       "</style>\n",
       "<table border=\"1\" class=\"dataframe\">\n",
       "  <thead>\n",
       "    <tr style=\"text-align: right;\">\n",
       "      <th></th>\n",
       "      <th>MPG</th>\n",
       "    </tr>\n",
       "  </thead>\n",
       "  <tbody>\n",
       "    <tr>\n",
       "      <th>0</th>\n",
       "      <td>10.258747</td>\n",
       "    </tr>\n",
       "    <tr>\n",
       "      <th>1</th>\n",
       "      <td>7.624608</td>\n",
       "    </tr>\n",
       "    <tr>\n",
       "      <th>2</th>\n",
       "      <td>7.734060</td>\n",
       "    </tr>\n",
       "    <tr>\n",
       "      <th>3</th>\n",
       "      <td>3.157963</td>\n",
       "    </tr>\n",
       "    <tr>\n",
       "      <th>4</th>\n",
       "      <td>8.331584</td>\n",
       "    </tr>\n",
       "    <tr>\n",
       "      <th>...</th>\n",
       "      <td>...</td>\n",
       "    </tr>\n",
       "    <tr>\n",
       "      <th>76</th>\n",
       "      <td>15.617904</td>\n",
       "    </tr>\n",
       "    <tr>\n",
       "      <th>77</th>\n",
       "      <td>1.298838</td>\n",
       "    </tr>\n",
       "    <tr>\n",
       "      <th>78</th>\n",
       "      <td>7.863547</td>\n",
       "    </tr>\n",
       "    <tr>\n",
       "      <th>79</th>\n",
       "      <td>7.517122</td>\n",
       "    </tr>\n",
       "    <tr>\n",
       "      <th>80</th>\n",
       "      <td>-3.458218</td>\n",
       "    </tr>\n",
       "  </tbody>\n",
       "</table>\n",
       "<p>81 rows × 1 columns</p>\n",
       "</div>"
      ],
      "text/plain": [
       "          MPG\n",
       "0   10.258747\n",
       "1    7.624608\n",
       "2    7.734060\n",
       "3    3.157963\n",
       "4    8.331584\n",
       "..        ...\n",
       "76  15.617904\n",
       "77   1.298838\n",
       "78   7.863547\n",
       "79   7.517122\n",
       "80  -3.458218\n",
       "\n",
       "[81 rows x 1 columns]"
      ]
     },
     "execution_count": 78,
     "metadata": {},
     "output_type": "execute_result"
    }
   ],
   "source": [
    "error = y - y_pred\n",
    "error"
   ]
  },
  {
   "cell_type": "markdown",
   "id": "340fda86",
   "metadata": {},
   "source": [
    "## .....back to Assumption Check"
   ]
  },
  {
   "cell_type": "markdown",
   "id": "09fd3130",
   "metadata": {},
   "source": [
    "## Homoscedasticity Check"
   ]
  },
  {
   "cell_type": "code",
   "execution_count": 79,
   "id": "575671c6",
   "metadata": {},
   "outputs": [
    {
     "data": {
      "text/html": [
       "<div>\n",
       "<style scoped>\n",
       "    .dataframe tbody tr th:only-of-type {\n",
       "        vertical-align: middle;\n",
       "    }\n",
       "\n",
       "    .dataframe tbody tr th {\n",
       "        vertical-align: top;\n",
       "    }\n",
       "\n",
       "    .dataframe thead th {\n",
       "        text-align: right;\n",
       "    }\n",
       "</style>\n",
       "<table border=\"1\" class=\"dataframe\">\n",
       "  <thead>\n",
       "    <tr style=\"text-align: right;\">\n",
       "      <th></th>\n",
       "      <th>HP</th>\n",
       "      <th>VOL</th>\n",
       "      <th>SP</th>\n",
       "      <th>WT</th>\n",
       "    </tr>\n",
       "  </thead>\n",
       "  <tbody>\n",
       "    <tr>\n",
       "      <th>0</th>\n",
       "      <td>49</td>\n",
       "      <td>89</td>\n",
       "      <td>104.185353</td>\n",
       "      <td>28.762059</td>\n",
       "    </tr>\n",
       "    <tr>\n",
       "      <th>1</th>\n",
       "      <td>55</td>\n",
       "      <td>92</td>\n",
       "      <td>105.461264</td>\n",
       "      <td>30.466833</td>\n",
       "    </tr>\n",
       "    <tr>\n",
       "      <th>2</th>\n",
       "      <td>55</td>\n",
       "      <td>92</td>\n",
       "      <td>105.461264</td>\n",
       "      <td>30.193597</td>\n",
       "    </tr>\n",
       "    <tr>\n",
       "      <th>3</th>\n",
       "      <td>70</td>\n",
       "      <td>92</td>\n",
       "      <td>113.461264</td>\n",
       "      <td>30.632114</td>\n",
       "    </tr>\n",
       "    <tr>\n",
       "      <th>4</th>\n",
       "      <td>53</td>\n",
       "      <td>92</td>\n",
       "      <td>104.461264</td>\n",
       "      <td>29.889149</td>\n",
       "    </tr>\n",
       "    <tr>\n",
       "      <th>...</th>\n",
       "      <td>...</td>\n",
       "      <td>...</td>\n",
       "      <td>...</td>\n",
       "      <td>...</td>\n",
       "    </tr>\n",
       "    <tr>\n",
       "      <th>76</th>\n",
       "      <td>322</td>\n",
       "      <td>50</td>\n",
       "      <td>169.598513</td>\n",
       "      <td>16.132947</td>\n",
       "    </tr>\n",
       "    <tr>\n",
       "      <th>77</th>\n",
       "      <td>238</td>\n",
       "      <td>115</td>\n",
       "      <td>150.576579</td>\n",
       "      <td>37.923113</td>\n",
       "    </tr>\n",
       "    <tr>\n",
       "      <th>78</th>\n",
       "      <td>263</td>\n",
       "      <td>50</td>\n",
       "      <td>151.598513</td>\n",
       "      <td>15.769625</td>\n",
       "    </tr>\n",
       "    <tr>\n",
       "      <th>79</th>\n",
       "      <td>295</td>\n",
       "      <td>119</td>\n",
       "      <td>167.944460</td>\n",
       "      <td>39.423099</td>\n",
       "    </tr>\n",
       "    <tr>\n",
       "      <th>80</th>\n",
       "      <td>236</td>\n",
       "      <td>107</td>\n",
       "      <td>139.840817</td>\n",
       "      <td>34.948615</td>\n",
       "    </tr>\n",
       "  </tbody>\n",
       "</table>\n",
       "<p>81 rows × 4 columns</p>\n",
       "</div>"
      ],
      "text/plain": [
       "     HP  VOL          SP         WT\n",
       "0    49   89  104.185353  28.762059\n",
       "1    55   92  105.461264  30.466833\n",
       "2    55   92  105.461264  30.193597\n",
       "3    70   92  113.461264  30.632114\n",
       "4    53   92  104.461264  29.889149\n",
       "..  ...  ...         ...        ...\n",
       "76  322   50  169.598513  16.132947\n",
       "77  238  115  150.576579  37.923113\n",
       "78  263   50  151.598513  15.769625\n",
       "79  295  119  167.944460  39.423099\n",
       "80  236  107  139.840817  34.948615\n",
       "\n",
       "[81 rows x 4 columns]"
      ]
     },
     "execution_count": 79,
     "metadata": {},
     "output_type": "execute_result"
    }
   ],
   "source": [
    "X"
   ]
  },
  {
   "cell_type": "code",
   "execution_count": 85,
   "id": "ecc52103",
   "metadata": {},
   "outputs": [
    {
     "data": {
      "text/html": [
       "<div>\n",
       "<style scoped>\n",
       "    .dataframe tbody tr th:only-of-type {\n",
       "        vertical-align: middle;\n",
       "    }\n",
       "\n",
       "    .dataframe tbody tr th {\n",
       "        vertical-align: top;\n",
       "    }\n",
       "\n",
       "    .dataframe thead th {\n",
       "        text-align: right;\n",
       "    }\n",
       "</style>\n",
       "<table border=\"1\" class=\"dataframe\">\n",
       "  <thead>\n",
       "    <tr style=\"text-align: right;\">\n",
       "      <th></th>\n",
       "      <th>HP</th>\n",
       "      <th>VOL</th>\n",
       "      <th>SP</th>\n",
       "      <th>WT</th>\n",
       "    </tr>\n",
       "  </thead>\n",
       "  <tbody>\n",
       "    <tr>\n",
       "      <th>0</th>\n",
       "      <td>-1.206295</td>\n",
       "      <td>-0.440611</td>\n",
       "      <td>-1.231403</td>\n",
       "      <td>-0.490238</td>\n",
       "    </tr>\n",
       "    <tr>\n",
       "      <th>1</th>\n",
       "      <td>-1.100587</td>\n",
       "      <td>-0.305252</td>\n",
       "      <td>-1.140871</td>\n",
       "      <td>-0.261299</td>\n",
       "    </tr>\n",
       "    <tr>\n",
       "      <th>2</th>\n",
       "      <td>-1.100587</td>\n",
       "      <td>-0.305252</td>\n",
       "      <td>-1.140871</td>\n",
       "      <td>-0.297993</td>\n",
       "    </tr>\n",
       "    <tr>\n",
       "      <th>3</th>\n",
       "      <td>-0.836315</td>\n",
       "      <td>-0.305252</td>\n",
       "      <td>-0.573239</td>\n",
       "      <td>-0.239103</td>\n",
       "    </tr>\n",
       "    <tr>\n",
       "      <th>4</th>\n",
       "      <td>-1.135823</td>\n",
       "      <td>-0.305252</td>\n",
       "      <td>-1.211826</td>\n",
       "      <td>-0.338878</td>\n",
       "    </tr>\n",
       "    <tr>\n",
       "      <th>...</th>\n",
       "      <td>...</td>\n",
       "      <td>...</td>\n",
       "      <td>...</td>\n",
       "      <td>...</td>\n",
       "    </tr>\n",
       "    <tr>\n",
       "      <th>76</th>\n",
       "      <td>3.603442</td>\n",
       "      <td>-2.200268</td>\n",
       "      <td>3.409929</td>\n",
       "      <td>-2.186236</td>\n",
       "    </tr>\n",
       "    <tr>\n",
       "      <th>77</th>\n",
       "      <td>2.123523</td>\n",
       "      <td>0.732494</td>\n",
       "      <td>2.060245</td>\n",
       "      <td>0.740025</td>\n",
       "    </tr>\n",
       "    <tr>\n",
       "      <th>78</th>\n",
       "      <td>2.563975</td>\n",
       "      <td>-2.200268</td>\n",
       "      <td>2.132755</td>\n",
       "      <td>-2.235028</td>\n",
       "    </tr>\n",
       "    <tr>\n",
       "      <th>79</th>\n",
       "      <td>3.127754</td>\n",
       "      <td>0.912972</td>\n",
       "      <td>3.292567</td>\n",
       "      <td>0.941462</td>\n",
       "    </tr>\n",
       "    <tr>\n",
       "      <th>80</th>\n",
       "      <td>2.088287</td>\n",
       "      <td>0.371539</td>\n",
       "      <td>1.298499</td>\n",
       "      <td>0.340572</td>\n",
       "    </tr>\n",
       "  </tbody>\n",
       "</table>\n",
       "<p>81 rows × 4 columns</p>\n",
       "</div>"
      ],
      "text/plain": [
       "          HP       VOL        SP        WT\n",
       "0  -1.206295 -0.440611 -1.231403 -0.490238\n",
       "1  -1.100587 -0.305252 -1.140871 -0.261299\n",
       "2  -1.100587 -0.305252 -1.140871 -0.297993\n",
       "3  -0.836315 -0.305252 -0.573239 -0.239103\n",
       "4  -1.135823 -0.305252 -1.211826 -0.338878\n",
       "..       ...       ...       ...       ...\n",
       "76  3.603442 -2.200268  3.409929 -2.186236\n",
       "77  2.123523  0.732494  2.060245  0.740025\n",
       "78  2.563975 -2.200268  2.132755 -2.235028\n",
       "79  3.127754  0.912972  3.292567  0.941462\n",
       "80  2.088287  0.371539  1.298499  0.340572\n",
       "\n",
       "[81 rows x 4 columns]"
      ]
     },
     "execution_count": 85,
     "metadata": {},
     "output_type": "execute_result"
    }
   ],
   "source": [
    "from sklearn.preprocessing import StandardScaler\n",
    "std_scaler = StandardScaler()\n",
    "scaled_X = std_scaler.fit_transform(X)\n",
    "scaled_X = pd.DataFrame(scaled_X,columns = ['HP','VOL','SP','WT'])\n",
    "scaled_X"
   ]
  },
  {
   "cell_type": "code",
   "execution_count": 86,
   "id": "e186229c",
   "metadata": {},
   "outputs": [
    {
     "data": {
      "text/html": [
       "<div>\n",
       "<style scoped>\n",
       "    .dataframe tbody tr th:only-of-type {\n",
       "        vertical-align: middle;\n",
       "    }\n",
       "\n",
       "    .dataframe tbody tr th {\n",
       "        vertical-align: top;\n",
       "    }\n",
       "\n",
       "    .dataframe thead th {\n",
       "        text-align: right;\n",
       "    }\n",
       "</style>\n",
       "<table border=\"1\" class=\"dataframe\">\n",
       "  <thead>\n",
       "    <tr style=\"text-align: right;\">\n",
       "      <th></th>\n",
       "      <th>MPG</th>\n",
       "    </tr>\n",
       "  </thead>\n",
       "  <tbody>\n",
       "    <tr>\n",
       "      <th>0</th>\n",
       "      <td>10.258747</td>\n",
       "    </tr>\n",
       "    <tr>\n",
       "      <th>1</th>\n",
       "      <td>7.624608</td>\n",
       "    </tr>\n",
       "    <tr>\n",
       "      <th>2</th>\n",
       "      <td>7.734060</td>\n",
       "    </tr>\n",
       "    <tr>\n",
       "      <th>3</th>\n",
       "      <td>3.157963</td>\n",
       "    </tr>\n",
       "    <tr>\n",
       "      <th>4</th>\n",
       "      <td>8.331584</td>\n",
       "    </tr>\n",
       "    <tr>\n",
       "      <th>...</th>\n",
       "      <td>...</td>\n",
       "    </tr>\n",
       "    <tr>\n",
       "      <th>76</th>\n",
       "      <td>15.617904</td>\n",
       "    </tr>\n",
       "    <tr>\n",
       "      <th>77</th>\n",
       "      <td>1.298838</td>\n",
       "    </tr>\n",
       "    <tr>\n",
       "      <th>78</th>\n",
       "      <td>7.863547</td>\n",
       "    </tr>\n",
       "    <tr>\n",
       "      <th>79</th>\n",
       "      <td>7.517122</td>\n",
       "    </tr>\n",
       "    <tr>\n",
       "      <th>80</th>\n",
       "      <td>-3.458218</td>\n",
       "    </tr>\n",
       "  </tbody>\n",
       "</table>\n",
       "<p>81 rows × 1 columns</p>\n",
       "</div>"
      ],
      "text/plain": [
       "          MPG\n",
       "0   10.258747\n",
       "1    7.624608\n",
       "2    7.734060\n",
       "3    3.157963\n",
       "4    8.331584\n",
       "..        ...\n",
       "76  15.617904\n",
       "77   1.298838\n",
       "78   7.863547\n",
       "79   7.517122\n",
       "80  -3.458218\n",
       "\n",
       "[81 rows x 1 columns]"
      ]
     },
     "execution_count": 86,
     "metadata": {},
     "output_type": "execute_result"
    }
   ],
   "source": [
    "error"
   ]
  },
  {
   "cell_type": "code",
   "execution_count": 87,
   "id": "b83bb90e",
   "metadata": {},
   "outputs": [
    {
     "data": {
      "image/png": "[encoded data removed]",
      "text/plain": [
       "<Figure size 432x288 with 1 Axes>"
      ]
     },
     "metadata": {
      "needs_background": "light"
     },
     "output_type": "display_data"
    }
   ],
   "source": [
    "plt.scatter(x=scaled_X['HP'],y=error)\n",
    "plt.title('HP Vs Error')\n",
    "plt.xlabel('HP')\n",
    "plt.ylabel('Error')\n",
    "plt.show()"
   ]
  },
  {
   "cell_type": "code",
   "execution_count": 88,
   "id": "dcbe42c5",
   "metadata": {},
   "outputs": [
    {
     "data": {
      "image/png": "[encoded data removed]",
      "text/plain": [
       "<Figure size 432x288 with 1 Axes>"
      ]
     },
     "metadata": {
      "needs_background": "light"
     },
     "output_type": "display_data"
    }
   ],
   "source": [
    "plt.scatter(x=scaled_X['VOL'],y=error)\n",
    "plt.title('VOL Vs Error')\n",
    "plt.xlabel('VOL')\n",
    "plt.ylabel('Error')\n",
    "plt.show()"
   ]
  },
  {
   "cell_type": "code",
   "execution_count": 89,
   "id": "8208b790",
   "metadata": {},
   "outputs": [
    {
     "data": {
      "image/png": "[encoded data removed]",
      "text/plain": [
       "<Figure size 432x288 with 1 Axes>"
      ]
     },
     "metadata": {
      "needs_background": "light"
     },
     "output_type": "display_data"
    }
   ],
   "source": [
    "plt.scatter(x=scaled_X['SP'],y=error)\n",
    "plt.title('SP Vs Error')\n",
    "plt.xlabel('SP')\n",
    "plt.ylabel('Error')\n",
    "plt.show()"
   ]
  },
  {
   "cell_type": "code",
   "execution_count": 90,
   "id": "694ca968",
   "metadata": {},
   "outputs": [
    {
     "data": {
      "image/png": "[encoded data removed]",
      "text/plain": [
       "<Figure size 432x288 with 1 Axes>"
      ]
     },
     "metadata": {
      "needs_background": "light"
     },
     "output_type": "display_data"
    }
   ],
   "source": [
    "plt.scatter(x=scaled_X['WT'],y=error)\n",
    "plt.title('WT Vs Error')\n",
    "plt.xlabel('WT')\n",
    "plt.ylabel('Error')\n",
    "plt.show()"
   ]
  },
  {
   "cell_type": "markdown",
   "id": "4f04f3df",
   "metadata": {},
   "source": [
    "### Homoscedasticity Check is Failed."
   ]
  },
  {
   "cell_type": "markdown",
   "id": "8e29af62",
   "metadata": {},
   "source": [
    "## Zero Residual Mean across the Fitted Line."
   ]
  },
  {
   "cell_type": "code",
   "execution_count": 91,
   "id": "13441439",
   "metadata": {},
   "outputs": [
    {
     "data": {
      "image/png": "[encoded data removed]",
      "text/plain": [
       "<Figure size 432x288 with 1 Axes>"
      ]
     },
     "metadata": {
      "needs_background": "light"
     },
     "output_type": "display_data"
    }
   ],
   "source": [
    "plt.scatter(x=y,y=y_pred)\n",
    "plt.title('Actual O/P Vs Predicted O/p')\n",
    "plt.xlabel('Actual O/P')\n",
    "plt.ylabel('Predicted O/p')\n",
    "plt.show()"
   ]
  },
  {
   "cell_type": "markdown",
   "id": "c97669dd",
   "metadata": {},
   "source": [
    "### Zero Residual Mean Test is also Failed."
   ]
  },
  {
   "cell_type": "markdown",
   "id": "d607eb93",
   "metadata": {},
   "source": [
    "## ======================================================================="
   ]
  },
  {
   "cell_type": "markdown",
   "id": "9255def5",
   "metadata": {},
   "source": [
    "# Build Linear Regression using StatsModels"
   ]
  },
  {
   "cell_type": "markdown",
   "id": "a84195bd",
   "metadata": {},
   "source": [
    "## 5. Model Building || 6. Model Training"
   ]
  },
  {
   "cell_type": "code",
   "execution_count": 5,
   "id": "629a98f4",
   "metadata": {},
   "outputs": [],
   "source": [
    "import statsmodels.formula.api as smf"
   ]
  },
  {
   "cell_type": "code",
   "execution_count": 6,
   "id": "0bfa3e4e",
   "metadata": {},
   "outputs": [
    {
     "data": {
      "text/html": [
       "<div>\n",
       "<style scoped>\n",
       "    .dataframe tbody tr th:only-of-type {\n",
       "        vertical-align: middle;\n",
       "    }\n",
       "\n",
       "    .dataframe tbody tr th {\n",
       "        vertical-align: top;\n",
       "    }\n",
       "\n",
       "    .dataframe thead th {\n",
       "        text-align: right;\n",
       "    }\n",
       "</style>\n",
       "<table border=\"1\" class=\"dataframe\">\n",
       "  <thead>\n",
       "    <tr style=\"text-align: right;\">\n",
       "      <th></th>\n",
       "      <th>HP</th>\n",
       "      <th>MPG</th>\n",
       "      <th>VOL</th>\n",
       "      <th>SP</th>\n",
       "      <th>WT</th>\n",
       "    </tr>\n",
       "  </thead>\n",
       "  <tbody>\n",
       "    <tr>\n",
       "      <th>0</th>\n",
       "      <td>49</td>\n",
       "      <td>53.700681</td>\n",
       "      <td>89</td>\n",
       "      <td>104.185353</td>\n",
       "      <td>28.762059</td>\n",
       "    </tr>\n",
       "    <tr>\n",
       "      <th>1</th>\n",
       "      <td>55</td>\n",
       "      <td>50.013401</td>\n",
       "      <td>92</td>\n",
       "      <td>105.461264</td>\n",
       "      <td>30.466833</td>\n",
       "    </tr>\n",
       "    <tr>\n",
       "      <th>2</th>\n",
       "      <td>55</td>\n",
       "      <td>50.013401</td>\n",
       "      <td>92</td>\n",
       "      <td>105.461264</td>\n",
       "      <td>30.193597</td>\n",
       "    </tr>\n",
       "    <tr>\n",
       "      <th>3</th>\n",
       "      <td>70</td>\n",
       "      <td>45.696322</td>\n",
       "      <td>92</td>\n",
       "      <td>113.461264</td>\n",
       "      <td>30.632114</td>\n",
       "    </tr>\n",
       "    <tr>\n",
       "      <th>4</th>\n",
       "      <td>53</td>\n",
       "      <td>50.504232</td>\n",
       "      <td>92</td>\n",
       "      <td>104.461264</td>\n",
       "      <td>29.889149</td>\n",
       "    </tr>\n",
       "  </tbody>\n",
       "</table>\n",
       "</div>"
      ],
      "text/plain": [
       "   HP        MPG  VOL          SP         WT\n",
       "0  49  53.700681   89  104.185353  28.762059\n",
       "1  55  50.013401   92  105.461264  30.466833\n",
       "2  55  50.013401   92  105.461264  30.193597\n",
       "3  70  45.696322   92  113.461264  30.632114\n",
       "4  53  50.504232   92  104.461264  29.889149"
      ]
     },
     "execution_count": 6,
     "metadata": {},
     "output_type": "execute_result"
    }
   ],
   "source": [
    "cars_data.head()"
   ]
  },
  {
   "cell_type": "code",
   "execution_count": 11,
   "id": "ca515637",
   "metadata": {},
   "outputs": [],
   "source": [
    "linear_model_stats = smf.ols('MPG~HP + VOL + SP + WT',data = cars_data).fit()"
   ]
  },
  {
   "cell_type": "markdown",
   "id": "4aec97ed",
   "metadata": {},
   "source": [
    "## Evaluation Metrics of Linear Regression"
   ]
  },
  {
   "cell_type": "code",
   "execution_count": 22,
   "id": "126df892",
   "metadata": {},
   "outputs": [
    {
     "name": "stdout",
     "output_type": "stream",
     "text": [
      "R2Score     : 0.7705\n",
      "Adj.R2Score : 0.7585\n",
      "AIC Value   : 477.9279\n",
      "BIC Value   : 489.9002\n"
     ]
    }
   ],
   "source": [
    "print('R2Score     :',linear_model_stats.rsquared.round(4)) #Overall Contribution of Predictors\n",
    "print('Adj.R2Score :',linear_model_stats.rsquared_adj.round(4)) #Overall Contribution of Predictors\n",
    "print('AIC Value   :',linear_model_stats.aic.round(4)) #Error Impurity\n",
    "print('BIC Value   :',linear_model_stats.bic.round(4)) #Error Impurity"
   ]
  },
  {
   "cell_type": "code",
   "execution_count": 34,
   "id": "4e3805ba",
   "metadata": {},
   "outputs": [
    {
     "name": "stdout",
     "output_type": "stream",
     "text": [
      "R2Score     : 0.5257\n",
      "Adj.R2Score : 0.5197\n",
      "AIC Value   : 530.7453\n",
      "BIC Value   : 535.5342\n",
      "P-Value     :\n",
      " Intercept    1.211037e-44\n",
      "HP           1.956490e-14\n",
      "dtype: float64\n"
     ]
    }
   ],
   "source": [
    "linear_model_stats_1 = smf.ols('MPG~HP',data = cars_data).fit()\n",
    "print('R2Score     :',linear_model_stats_1.rsquared.round(4)) #Overall Contribution of Predictors\n",
    "print('Adj.R2Score :',linear_model_stats_1.rsquared_adj.round(4)) #Overall Contribution of Predictors\n",
    "print('AIC Value   :',linear_model_stats_1.aic.round(4)) #Error Impurity\n",
    "print('BIC Value   :',linear_model_stats_1.bic.round(4)) #Error Impurity\n",
    "print('P-Value     :\\n',linear_model_stats_1.pvalues)"
   ]
  },
  {
   "cell_type": "markdown",
   "id": "b7ffd626",
   "metadata": {},
   "source": [
    "### Hypothesis Formulation\n",
    "\n",
    "**H0: Input feature/This is not significant for prediction.**\n",
    "\n",
    "**Ha: It is a significant feature**\n",
    "\n",
    "**Level of significance = 5%**"
   ]
  },
  {
   "cell_type": "code",
   "execution_count": 35,
   "id": "aaea7794",
   "metadata": {},
   "outputs": [
    {
     "name": "stdout",
     "output_type": "stream",
     "text": [
      "R2Score     : 0.7507\n",
      "Adj.R2Score : 0.7443\n",
      "AIC Value   : 480.6569\n",
      "BIC Value   : 487.8403\n",
      "P-Value     :\n",
      " Intercept    7.697003e-41\n",
      "HP           1.203680e-19\n",
      "VOL          1.654693e-12\n",
      "dtype: float64\n"
     ]
    }
   ],
   "source": [
    "linear_model_stats_2 = smf.ols('MPG~HP + VOL',data = cars_data).fit()\n",
    "print('R2Score     :',linear_model_stats_2.rsquared.round(4)) #Overall Contribution of Predictors\n",
    "print('Adj.R2Score :',linear_model_stats_2.rsquared_adj.round(4)) #Overall Contribution of Predictors\n",
    "print('AIC Value   :',linear_model_stats_2.aic.round(4)) #Error Impurity\n",
    "print('BIC Value   :',linear_model_stats_2.bic.round(4)) #Error Impurity\n",
    "print('P-Value     :\\n',linear_model_stats_2.pvalues)"
   ]
  },
  {
   "cell_type": "code",
   "execution_count": 36,
   "id": "0a866aa4",
   "metadata": {},
   "outputs": [
    {
     "name": "stdout",
     "output_type": "stream",
     "text": [
      "R2Score     : 0.7517\n",
      "Adj.R2Score : 0.742\n",
      "AIC Value   : 482.3287\n",
      "BIC Value   : 491.9065\n",
      "P-Value     :\n",
      " Intercept    2.513123e-37\n",
      "HP           1.981859e-19\n",
      "VOL          3.746742e-01\n",
      "WT           5.777112e-01\n",
      "dtype: float64\n"
     ]
    }
   ],
   "source": [
    "linear_model_stats_3 = smf.ols('MPG~HP + VOL + WT',data = cars_data).fit()\n",
    "print('R2Score     :',linear_model_stats_3.rsquared.round(4)) #Overall Contribution of Predictors\n",
    "print('Adj.R2Score :',linear_model_stats_3.rsquared_adj.round(4)) #Overall Contribution of Predictors\n",
    "print('AIC Value   :',linear_model_stats_3.aic.round(4)) #Error Impurity\n",
    "print('BIC Value   :',linear_model_stats_3.bic.round(4)) #Error Impurity\n",
    "print('P-Value     :\\n',linear_model_stats_3.pvalues)"
   ]
  },
  {
   "cell_type": "code",
   "execution_count": 37,
   "id": "4cb6498a",
   "metadata": {},
   "outputs": [
    {
     "name": "stdout",
     "output_type": "stream",
     "text": [
      "R2Score     : 0.7704\n",
      "Adj.R2Score : 0.7614\n",
      "AIC Value   : 475.9875\n",
      "BIC Value   : 485.5653\n",
      "P-Value     :\n",
      " Intercept    4.194554e-02\n",
      "HP           8.644870e-07\n",
      "VOL          1.648229e-13\n",
      "SP           1.207855e-02\n",
      "dtype: float64\n"
     ]
    }
   ],
   "source": [
    "linear_model_stats_4 = smf.ols('MPG~HP + VOL + SP',data = cars_data).fit()\n",
    "print('R2Score     :',linear_model_stats_4.rsquared.round(4)) #Overall Contribution of Predictors\n",
    "print('Adj.R2Score :',linear_model_stats_4.rsquared_adj.round(4)) #Overall Contribution of Predictors\n",
    "print('AIC Value   :',linear_model_stats_4.aic.round(4)) #Error Impurity\n",
    "print('BIC Value   :',linear_model_stats_4.bic.round(4)) #Error Impurity\n",
    "print('P-Value     :\\n',linear_model_stats_4.pvalues)"
   ]
  },
  {
   "cell_type": "code",
   "execution_count": 38,
   "id": "c54fb2e6",
   "metadata": {},
   "outputs": [
    {
     "name": "stdout",
     "output_type": "stream",
     "text": [
      "R2Score     : 0.7705\n",
      "Adj.R2Score : 0.7585\n",
      "AIC Value   : 477.9279\n",
      "BIC Value   : 489.9002\n",
      "P-Value     :\n",
      " Intercept    0.042936\n",
      "HP           0.000001\n",
      "VOL          0.556294\n",
      "WT           0.813649\n",
      "SP           0.014579\n",
      "dtype: float64\n"
     ]
    }
   ],
   "source": [
    "linear_model_stats_5 = smf.ols('MPG~HP + VOL + WT + SP',data = cars_data).fit()\n",
    "print('R2Score     :',linear_model_stats_5.rsquared.round(4)) #Overall Contribution of Predictors\n",
    "print('Adj.R2Score :',linear_model_stats_5.rsquared_adj.round(4)) #Overall Contribution of Predictors\n",
    "print('AIC Value   :',linear_model_stats_5.aic.round(4)) #Error Impurity\n",
    "print('BIC Value   :',linear_model_stats_5.bic.round(4)) #Error Impurity\n",
    "print('P-Value     :\\n',linear_model_stats_5.pvalues)"
   ]
  },
  {
   "cell_type": "code",
   "execution_count": 39,
   "id": "518f8af7",
   "metadata": {},
   "outputs": [
    {
     "data": {
      "text/html": [
       "<table class=\"simpletable\">\n",
       "<caption>OLS Regression Results</caption>\n",
       "<tr>\n",
       "  <th>Dep. Variable:</th>           <td>MPG</td>       <th>  R-squared:         </th> <td>   0.526</td>\n",
       "</tr>\n",
       "<tr>\n",
       "  <th>Model:</th>                   <td>OLS</td>       <th>  Adj. R-squared:    </th> <td>   0.520</td>\n",
       "</tr>\n",
       "<tr>\n",
       "  <th>Method:</th>             <td>Least Squares</td>  <th>  F-statistic:       </th> <td>   87.55</td>\n",
       "</tr>\n",
       "<tr>\n",
       "  <th>Date:</th>             <td>Fri, 22 Jul 2022</td> <th>  Prob (F-statistic):</th> <td>1.96e-14</td>\n",
       "</tr>\n",
       "<tr>\n",
       "  <th>Time:</th>                 <td>12:28:46</td>     <th>  Log-Likelihood:    </th> <td> -263.37</td>\n",
       "</tr>\n",
       "<tr>\n",
       "  <th>No. Observations:</th>      <td>    81</td>      <th>  AIC:               </th> <td>   530.7</td>\n",
       "</tr>\n",
       "<tr>\n",
       "  <th>Df Residuals:</th>          <td>    79</td>      <th>  BIC:               </th> <td>   535.5</td>\n",
       "</tr>\n",
       "<tr>\n",
       "  <th>Df Model:</th>              <td>     1</td>      <th>                     </th>     <td> </td>   \n",
       "</tr>\n",
       "<tr>\n",
       "  <th>Covariance Type:</th>      <td>nonrobust</td>    <th>                     </th>     <td> </td>   \n",
       "</tr>\n",
       "</table>\n",
       "<table class=\"simpletable\">\n",
       "<tr>\n",
       "      <td></td>         <th>coef</th>     <th>std err</th>      <th>t</th>      <th>P>|t|</th>  <th>[0.025</th>    <th>0.975]</th>  \n",
       "</tr>\n",
       "<tr>\n",
       "  <th>Intercept</th> <td>   48.0392</td> <td>    1.616</td> <td>   29.722</td> <td> 0.000</td> <td>   44.822</td> <td>   51.256</td>\n",
       "</tr>\n",
       "<tr>\n",
       "  <th>HP</th>        <td>   -0.1159</td> <td>    0.012</td> <td>   -9.357</td> <td> 0.000</td> <td>   -0.141</td> <td>   -0.091</td>\n",
       "</tr>\n",
       "</table>\n",
       "<table class=\"simpletable\">\n",
       "<tr>\n",
       "  <th>Omnibus:</th>       <td>20.653</td> <th>  Durbin-Watson:     </th> <td>   1.155</td>\n",
       "</tr>\n",
       "<tr>\n",
       "  <th>Prob(Omnibus):</th> <td> 0.000</td> <th>  Jarque-Bera (JB):  </th> <td>  37.053</td>\n",
       "</tr>\n",
       "<tr>\n",
       "  <th>Skew:</th>          <td> 0.949</td> <th>  Prob(JB):          </th> <td>9.00e-09</td>\n",
       "</tr>\n",
       "<tr>\n",
       "  <th>Kurtosis:</th>      <td> 5.716</td> <th>  Cond. No.          </th> <td>    300.</td>\n",
       "</tr>\n",
       "</table><br/><br/>Notes:<br/>[1] Standard Errors assume that the covariance matrix of the errors is correctly specified."
      ],
      "text/plain": [
       "<class 'statsmodels.iolib.summary.Summary'>\n",
       "\"\"\"\n",
       "                            OLS Regression Results                            \n",
       "==============================================================================\n",
       "Dep. Variable:                    MPG   R-squared:                       0.526\n",
       "Model:                            OLS   Adj. R-squared:                  0.520\n",
       "Method:                 Least Squares   F-statistic:                     87.55\n",
       "Date:                Fri, 22 Jul 2022   Prob (F-statistic):           1.96e-14\n",
       "Time:                        12:28:46   Log-Likelihood:                -263.37\n",
       "No. Observations:                  81   AIC:                             530.7\n",
       "Df Residuals:                      79   BIC:                             535.5\n",
       "Df Model:                           1                                         \n",
       "Covariance Type:            nonrobust                                         \n",
       "==============================================================================\n",
       "                 coef    std err          t      P>|t|      [0.025      0.975]\n",
       "------------------------------------------------------------------------------\n",
       "Intercept     48.0392      1.616     29.722      0.000      44.822      51.256\n",
       "HP            -0.1159      0.012     -9.357      0.000      -0.141      -0.091\n",
       "==============================================================================\n",
       "Omnibus:                       20.653   Durbin-Watson:                   1.155\n",
       "Prob(Omnibus):                  0.000   Jarque-Bera (JB):               37.053\n",
       "Skew:                           0.949   Prob(JB):                     9.00e-09\n",
       "Kurtosis:                       5.716   Cond. No.                         300.\n",
       "==============================================================================\n",
       "\n",
       "Notes:\n",
       "[1] Standard Errors assume that the covariance matrix of the errors is correctly specified.\n",
       "\"\"\""
      ]
     },
     "execution_count": 39,
     "metadata": {},
     "output_type": "execute_result"
    }
   ],
   "source": [
    "linear_model_stats_1.summary()"
   ]
  },
  {
   "cell_type": "markdown",
   "id": "eb7f43d4",
   "metadata": {},
   "source": [
    "## ========================================================================"
   ]
  },
  {
   "cell_type": "markdown",
   "id": "b6c85f44",
   "metadata": {},
   "source": [
    "## 5. Build Linear Regression using sklearn library"
   ]
  },
  {
   "cell_type": "code",
   "execution_count": 44,
   "id": "63f8d614",
   "metadata": {},
   "outputs": [],
   "source": [
    "X = cars_data.drop('MPG',axis = 1)\n",
    "y = cars_data[['MPG']]"
   ]
  },
  {
   "cell_type": "code",
   "execution_count": 45,
   "id": "722d22a4",
   "metadata": {},
   "outputs": [
    {
     "data": {
      "text/plain": [
       "((81, 4), (81, 1))"
      ]
     },
     "execution_count": 45,
     "metadata": {},
     "output_type": "execute_result"
    }
   ],
   "source": [
    "X.shape,y.shape"
   ]
  },
  {
   "cell_type": "markdown",
   "id": "91c1a8c5",
   "metadata": {},
   "source": [
    "## 6. Model Training"
   ]
  },
  {
   "cell_type": "code",
   "execution_count": 46,
   "id": "f54e2cb3",
   "metadata": {},
   "outputs": [
    {
     "data": {
      "text/plain": [
       "LinearRegression()"
      ]
     },
     "execution_count": 46,
     "metadata": {},
     "output_type": "execute_result"
    }
   ],
   "source": [
    "from sklearn.linear_model import LinearRegression\n",
    "linear_model_sklearn = LinearRegression()\n",
    "linear_model_sklearn.fit(X,y)"
   ]
  },
  {
   "cell_type": "markdown",
   "id": "ae52fb71",
   "metadata": {},
   "source": [
    "## 7. Model Testing"
   ]
  },
  {
   "cell_type": "code",
   "execution_count": 47,
   "id": "81ecb597",
   "metadata": {},
   "outputs": [],
   "source": [
    "y_pred = linear_model_sklearn.predict(X)"
   ]
  },
  {
   "cell_type": "markdown",
   "id": "cdd30b35",
   "metadata": {},
   "source": [
    "## 8. Model Evaluation"
   ]
  },
  {
   "cell_type": "code",
   "execution_count": 50,
   "id": "ca0b55c7",
   "metadata": {},
   "outputs": [],
   "source": [
    "from sklearn.metrics import mean_squared_error,mean_absolute_error"
   ]
  },
  {
   "cell_type": "code",
   "execution_count": 49,
   "id": "44beac9c",
   "metadata": {},
   "outputs": [
    {
     "data": {
      "text/plain": [
       "18.89714115234311"
      ]
     },
     "execution_count": 49,
     "metadata": {},
     "output_type": "execute_result"
    }
   ],
   "source": [
    "mean_squared_error(y,y_pred)"
   ]
  },
  {
   "cell_type": "code",
   "execution_count": 51,
   "id": "c8dd73ed",
   "metadata": {},
   "outputs": [
    {
     "data": {
      "text/plain": [
       "3.267968285420799"
      ]
     },
     "execution_count": 51,
     "metadata": {},
     "output_type": "execute_result"
    }
   ],
   "source": [
    "mean_absolute_error(y,y_pred)"
   ]
  },
  {
   "cell_type": "markdown",
   "id": "cef224bd",
   "metadata": {},
   "source": [
    "# MODEL OPTIMIZATION TECHNIQUES"
   ]
  },
  {
   "cell_type": "markdown",
   "id": "1089fe46",
   "metadata": {},
   "source": [
    "## TAKEAWAY:\n",
    "\n",
    "Here wrt to few datapoints, it is evident that most of the input features are not showing direct linear relationship with output varible. So we have to do some transformations to make to linear.\n",
    "\n",
    "#### Data transformation techniques if the data is CONTINUOUS:\n",
    "\n",
    "* Log Transformation\n",
    "* Square Root Transformation\n",
    "* Cube Root Transformation\n",
    "* Reciprocal Transformation\n",
    "* Boxcox Transformation\n",
    "* Standard Scaler\n",
    "* Min Max Scaler\n",
    "* Robust Scaler\n",
    "\n",
    "### Data transformation techniques if the data is DISCRETE:\n",
    "\n",
    "* Label Encoding\n",
    "* One Hot Encoding"
   ]
  },
  {
   "cell_type": "code",
   "execution_count": 54,
   "id": "2b8a7413",
   "metadata": {},
   "outputs": [],
   "source": [
    "import numpy as np"
   ]
  },
  {
   "cell_type": "code",
   "execution_count": 57,
   "id": "b96a2b23",
   "metadata": {},
   "outputs": [
    {
     "data": {
      "text/html": [
       "<div>\n",
       "<style scoped>\n",
       "    .dataframe tbody tr th:only-of-type {\n",
       "        vertical-align: middle;\n",
       "    }\n",
       "\n",
       "    .dataframe tbody tr th {\n",
       "        vertical-align: top;\n",
       "    }\n",
       "\n",
       "    .dataframe thead th {\n",
       "        text-align: right;\n",
       "    }\n",
       "</style>\n",
       "<table border=\"1\" class=\"dataframe\">\n",
       "  <thead>\n",
       "    <tr style=\"text-align: right;\">\n",
       "      <th></th>\n",
       "      <th>HP</th>\n",
       "      <th>MPG</th>\n",
       "      <th>VOL</th>\n",
       "      <th>SP</th>\n",
       "      <th>WT</th>\n",
       "    </tr>\n",
       "  </thead>\n",
       "  <tbody>\n",
       "    <tr>\n",
       "      <th>0</th>\n",
       "      <td>49</td>\n",
       "      <td>53.700681</td>\n",
       "      <td>89</td>\n",
       "      <td>104.185353</td>\n",
       "      <td>28.762059</td>\n",
       "    </tr>\n",
       "    <tr>\n",
       "      <th>1</th>\n",
       "      <td>55</td>\n",
       "      <td>50.013401</td>\n",
       "      <td>92</td>\n",
       "      <td>105.461264</td>\n",
       "      <td>30.466833</td>\n",
       "    </tr>\n",
       "    <tr>\n",
       "      <th>2</th>\n",
       "      <td>55</td>\n",
       "      <td>50.013401</td>\n",
       "      <td>92</td>\n",
       "      <td>105.461264</td>\n",
       "      <td>30.193597</td>\n",
       "    </tr>\n",
       "    <tr>\n",
       "      <th>3</th>\n",
       "      <td>70</td>\n",
       "      <td>45.696322</td>\n",
       "      <td>92</td>\n",
       "      <td>113.461264</td>\n",
       "      <td>30.632114</td>\n",
       "    </tr>\n",
       "    <tr>\n",
       "      <th>4</th>\n",
       "      <td>53</td>\n",
       "      <td>50.504232</td>\n",
       "      <td>92</td>\n",
       "      <td>104.461264</td>\n",
       "      <td>29.889149</td>\n",
       "    </tr>\n",
       "  </tbody>\n",
       "</table>\n",
       "</div>"
      ],
      "text/plain": [
       "   HP        MPG  VOL          SP         WT\n",
       "0  49  53.700681   89  104.185353  28.762059\n",
       "1  55  50.013401   92  105.461264  30.466833\n",
       "2  55  50.013401   92  105.461264  30.193597\n",
       "3  70  45.696322   92  113.461264  30.632114\n",
       "4  53  50.504232   92  104.461264  29.889149"
      ]
     },
     "execution_count": 57,
     "metadata": {},
     "output_type": "execute_result"
    }
   ],
   "source": [
    "cars_data_2 = cars_data.copy()\n",
    "cars_data_2.head()"
   ]
  },
  {
   "cell_type": "code",
   "execution_count": 60,
   "id": "dc263986",
   "metadata": {},
   "outputs": [
    {
     "data": {
      "text/html": [
       "<div>\n",
       "<style scoped>\n",
       "    .dataframe tbody tr th:only-of-type {\n",
       "        vertical-align: middle;\n",
       "    }\n",
       "\n",
       "    .dataframe tbody tr th {\n",
       "        vertical-align: top;\n",
       "    }\n",
       "\n",
       "    .dataframe thead th {\n",
       "        text-align: right;\n",
       "    }\n",
       "</style>\n",
       "<table border=\"1\" class=\"dataframe\">\n",
       "  <thead>\n",
       "    <tr style=\"text-align: right;\">\n",
       "      <th></th>\n",
       "      <th>HP</th>\n",
       "      <th>MPG</th>\n",
       "      <th>VOL</th>\n",
       "      <th>SP</th>\n",
       "      <th>WT</th>\n",
       "      <th>log_HP</th>\n",
       "      <th>log_VOL</th>\n",
       "      <th>log_SP</th>\n",
       "      <th>log_WT</th>\n",
       "    </tr>\n",
       "  </thead>\n",
       "  <tbody>\n",
       "    <tr>\n",
       "      <th>0</th>\n",
       "      <td>49</td>\n",
       "      <td>53.700681</td>\n",
       "      <td>89</td>\n",
       "      <td>104.185353</td>\n",
       "      <td>28.762059</td>\n",
       "      <td>3.891820</td>\n",
       "      <td>4.488636</td>\n",
       "      <td>4.646172</td>\n",
       "      <td>3.359057</td>\n",
       "    </tr>\n",
       "    <tr>\n",
       "      <th>1</th>\n",
       "      <td>55</td>\n",
       "      <td>50.013401</td>\n",
       "      <td>92</td>\n",
       "      <td>105.461264</td>\n",
       "      <td>30.466833</td>\n",
       "      <td>4.007333</td>\n",
       "      <td>4.521789</td>\n",
       "      <td>4.658344</td>\n",
       "      <td>3.416639</td>\n",
       "    </tr>\n",
       "    <tr>\n",
       "      <th>2</th>\n",
       "      <td>55</td>\n",
       "      <td>50.013401</td>\n",
       "      <td>92</td>\n",
       "      <td>105.461264</td>\n",
       "      <td>30.193597</td>\n",
       "      <td>4.007333</td>\n",
       "      <td>4.521789</td>\n",
       "      <td>4.658344</td>\n",
       "      <td>3.407630</td>\n",
       "    </tr>\n",
       "    <tr>\n",
       "      <th>3</th>\n",
       "      <td>70</td>\n",
       "      <td>45.696322</td>\n",
       "      <td>92</td>\n",
       "      <td>113.461264</td>\n",
       "      <td>30.632114</td>\n",
       "      <td>4.248495</td>\n",
       "      <td>4.521789</td>\n",
       "      <td>4.731461</td>\n",
       "      <td>3.422049</td>\n",
       "    </tr>\n",
       "    <tr>\n",
       "      <th>4</th>\n",
       "      <td>53</td>\n",
       "      <td>50.504232</td>\n",
       "      <td>92</td>\n",
       "      <td>104.461264</td>\n",
       "      <td>29.889149</td>\n",
       "      <td>3.970292</td>\n",
       "      <td>4.521789</td>\n",
       "      <td>4.648816</td>\n",
       "      <td>3.397495</td>\n",
       "    </tr>\n",
       "    <tr>\n",
       "      <th>...</th>\n",
       "      <td>...</td>\n",
       "      <td>...</td>\n",
       "      <td>...</td>\n",
       "      <td>...</td>\n",
       "      <td>...</td>\n",
       "      <td>...</td>\n",
       "      <td>...</td>\n",
       "      <td>...</td>\n",
       "      <td>...</td>\n",
       "    </tr>\n",
       "    <tr>\n",
       "      <th>76</th>\n",
       "      <td>322</td>\n",
       "      <td>36.900000</td>\n",
       "      <td>50</td>\n",
       "      <td>169.598513</td>\n",
       "      <td>16.132947</td>\n",
       "      <td>5.774552</td>\n",
       "      <td>3.912023</td>\n",
       "      <td>5.133434</td>\n",
       "      <td>2.780864</td>\n",
       "    </tr>\n",
       "    <tr>\n",
       "      <th>77</th>\n",
       "      <td>238</td>\n",
       "      <td>19.197888</td>\n",
       "      <td>115</td>\n",
       "      <td>150.576579</td>\n",
       "      <td>37.923113</td>\n",
       "      <td>5.472271</td>\n",
       "      <td>4.744932</td>\n",
       "      <td>5.014472</td>\n",
       "      <td>3.635561</td>\n",
       "    </tr>\n",
       "    <tr>\n",
       "      <th>78</th>\n",
       "      <td>263</td>\n",
       "      <td>34.000000</td>\n",
       "      <td>50</td>\n",
       "      <td>151.598513</td>\n",
       "      <td>15.769625</td>\n",
       "      <td>5.572154</td>\n",
       "      <td>3.912023</td>\n",
       "      <td>5.021236</td>\n",
       "      <td>2.758086</td>\n",
       "    </tr>\n",
       "    <tr>\n",
       "      <th>79</th>\n",
       "      <td>295</td>\n",
       "      <td>19.833733</td>\n",
       "      <td>119</td>\n",
       "      <td>167.944460</td>\n",
       "      <td>39.423099</td>\n",
       "      <td>5.686975</td>\n",
       "      <td>4.779123</td>\n",
       "      <td>5.123633</td>\n",
       "      <td>3.674352</td>\n",
       "    </tr>\n",
       "    <tr>\n",
       "      <th>80</th>\n",
       "      <td>236</td>\n",
       "      <td>12.101263</td>\n",
       "      <td>107</td>\n",
       "      <td>139.840817</td>\n",
       "      <td>34.948615</td>\n",
       "      <td>5.463832</td>\n",
       "      <td>4.672829</td>\n",
       "      <td>4.940505</td>\n",
       "      <td>3.553879</td>\n",
       "    </tr>\n",
       "  </tbody>\n",
       "</table>\n",
       "<p>81 rows × 9 columns</p>\n",
       "</div>"
      ],
      "text/plain": [
       "     HP        MPG  VOL          SP         WT    log_HP   log_VOL    log_SP  \\\n",
       "0    49  53.700681   89  104.185353  28.762059  3.891820  4.488636  4.646172   \n",
       "1    55  50.013401   92  105.461264  30.466833  4.007333  4.521789  4.658344   \n",
       "2    55  50.013401   92  105.461264  30.193597  4.007333  4.521789  4.658344   \n",
       "3    70  45.696322   92  113.461264  30.632114  4.248495  4.521789  4.731461   \n",
       "4    53  50.504232   92  104.461264  29.889149  3.970292  4.521789  4.648816   \n",
       "..  ...        ...  ...         ...        ...       ...       ...       ...   \n",
       "76  322  36.900000   50  169.598513  16.132947  5.774552  3.912023  5.133434   \n",
       "77  238  19.197888  115  150.576579  37.923113  5.472271  4.744932  5.014472   \n",
       "78  263  34.000000   50  151.598513  15.769625  5.572154  3.912023  5.021236   \n",
       "79  295  19.833733  119  167.944460  39.423099  5.686975  4.779123  5.123633   \n",
       "80  236  12.101263  107  139.840817  34.948615  5.463832  4.672829  4.940505   \n",
       "\n",
       "      log_WT  \n",
       "0   3.359057  \n",
       "1   3.416639  \n",
       "2   3.407630  \n",
       "3   3.422049  \n",
       "4   3.397495  \n",
       "..       ...  \n",
       "76  2.780864  \n",
       "77  3.635561  \n",
       "78  2.758086  \n",
       "79  3.674352  \n",
       "80  3.553879  \n",
       "\n",
       "[81 rows x 9 columns]"
      ]
     },
     "execution_count": 60,
     "metadata": {},
     "output_type": "execute_result"
    }
   ],
   "source": [
    "cars_data_2['log_HP'] = np.log(cars_data_2['HP'])\n",
    "cars_data_2['log_VOL'] = np.log(cars_data_2['VOL'])\n",
    "cars_data_2['log_SP'] = np.log(cars_data_2['SP'])\n",
    "cars_data_2['log_WT'] = np.log(cars_data_2['WT'])\n",
    "cars_data_2"
   ]
  },
  {
   "cell_type": "markdown",
   "id": "4b497eaf",
   "metadata": {},
   "source": [
    "## 3.2 ASSUMPTIONS CHECK"
   ]
  },
  {
   "cell_type": "markdown",
   "id": "11915be8",
   "metadata": {},
   "source": [
    "## 1. Linearity Test"
   ]
  },
  {
   "cell_type": "code",
   "execution_count": 61,
   "id": "ccdd1607",
   "metadata": {},
   "outputs": [
    {
     "data": {
      "image/png": "[encoded data removed]",
      "text/plain": [
       "<Figure size 360x360 with 1 Axes>"
      ]
     },
     "metadata": {
      "needs_background": "light"
     },
     "output_type": "display_data"
    },
    {
     "data": {
      "image/png": "[encoded data removed]",
      "text/plain": [
       "<Figure size 360x360 with 1 Axes>"
      ]
     },
     "metadata": {
      "needs_background": "light"
     },
     "output_type": "display_data"
    }
   ],
   "source": [
    "sns.lmplot(x='HP',y='MPG',data=cars_data_2)\n",
    "plt.title('HP Vs MPG')\n",
    "\n",
    "sns.lmplot(x='log_HP',y='MPG',data=cars_data_2)\n",
    "plt.title('log_HP Vs MPG')\n",
    "plt.show()"
   ]
  },
  {
   "cell_type": "code",
   "execution_count": 62,
   "id": "fadcc5dc",
   "metadata": {},
   "outputs": [
    {
     "data": {
      "image/png": "[encoded data removed]",
      "text/plain": [
       "<Figure size 360x360 with 1 Axes>"
      ]
     },
     "metadata": {
      "needs_background": "light"
     },
     "output_type": "display_data"
    },
    {
     "data": {
      "image/png": "[encoded data removed]",
      "text/plain": [
       "<Figure size 360x360 with 1 Axes>"
      ]
     },
     "metadata": {
      "needs_background": "light"
     },
     "output_type": "display_data"
    }
   ],
   "source": [
    "sns.lmplot(x='VOL',y='MPG',data=cars_data_2)\n",
    "plt.title('VOL Vs MPG')\n",
    "\n",
    "sns.lmplot(x='log_VOL',y='MPG',data=cars_data_2)\n",
    "plt.title('log_VOL Vs MPG')\n",
    "plt.show()"
   ]
  },
  {
   "cell_type": "code",
   "execution_count": 63,
   "id": "d7268d72",
   "metadata": {},
   "outputs": [
    {
     "data": {
      "image/png": "[encoded data removed]",
      "text/plain": [
       "<Figure size 360x360 with 1 Axes>"
      ]
     },
     "metadata": {
      "needs_background": "light"
     },
     "output_type": "display_data"
    },
    {
     "data": {
      "image/png": "[encoded data removed]",
      "text/plain": [
       "<Figure size 360x360 with 1 Axes>"
      ]
     },
     "metadata": {
      "needs_background": "light"
     },
     "output_type": "display_data"
    }
   ],
   "source": [
    "sns.lmplot(x='WT',y='MPG',data=cars_data_2)\n",
    "plt.title('WT Vs MPG')\n",
    "\n",
    "sns.lmplot(x='log_WT',y='MPG',data=cars_data_2)\n",
    "plt.title('log_WT Vs MPG')\n",
    "plt.show()"
   ]
  },
  {
   "cell_type": "code",
   "execution_count": 64,
   "id": "33a7145c",
   "metadata": {},
   "outputs": [
    {
     "data": {
      "image/png": "[encoded data removed]",
      "text/plain": [
       "<Figure size 360x360 with 1 Axes>"
      ]
     },
     "metadata": {
      "needs_background": "light"
     },
     "output_type": "display_data"
    },
    {
     "data": {
      "image/png": "[encoded data removed]",
      "text/plain": [
       "<Figure size 360x360 with 1 Axes>"
      ]
     },
     "metadata": {
      "needs_background": "light"
     },
     "output_type": "display_data"
    }
   ],
   "source": [
    "sns.lmplot(x='SP',y='MPG',data=cars_data_2)\n",
    "plt.title('SP Vs MPG')\n",
    "\n",
    "sns.lmplot(x='log_SP',y='MPG',data=cars_data_2)\n",
    "plt.title('log_SP Vs MPG')\n",
    "plt.show()"
   ]
  },
  {
   "cell_type": "markdown",
   "id": "cddd565a",
   "metadata": {},
   "source": [
    "### Linearity Test is Failed."
   ]
  },
  {
   "cell_type": "markdown",
   "id": "e9f7a581",
   "metadata": {},
   "source": [
    "## 3.2 Normality Test"
   ]
  },
  {
   "cell_type": "code",
   "execution_count": 66,
   "id": "90241ee1",
   "metadata": {},
   "outputs": [
    {
     "data": {
      "image/png": "[encoded data removed]",
      "text/plain": [
       "<Figure size 432x288 with 1 Axes>"
      ]
     },
     "metadata": {
      "needs_background": "light"
     },
     "output_type": "display_data"
    }
   ],
   "source": [
    "sns.kdeplot(data=cars_data_2,x='log_HP')\n",
    "plt.title('log_HP Distribution')\n",
    "plt.show()"
   ]
  },
  {
   "cell_type": "code",
   "execution_count": 67,
   "id": "4811af08",
   "metadata": {},
   "outputs": [
    {
     "data": {
      "image/png": "[encoded data removed]",
      "text/plain": [
       "<Figure size 432x288 with 1 Axes>"
      ]
     },
     "metadata": {
      "needs_background": "light"
     },
     "output_type": "display_data"
    }
   ],
   "source": [
    "sns.kdeplot(data=cars_data_2,x='log_SP')\n",
    "plt.title('SP Distribution')\n",
    "plt.show()"
   ]
  },
  {
   "cell_type": "code",
   "execution_count": 68,
   "id": "91c1544d",
   "metadata": {},
   "outputs": [
    {
     "data": {
      "image/png": "[encoded data removed]",
      "text/plain": [
       "<Figure size 432x288 with 1 Axes>"
      ]
     },
     "metadata": {
      "needs_background": "light"
     },
     "output_type": "display_data"
    }
   ],
   "source": [
    "sns.kdeplot(data=cars_data_2,x='log_VOL')\n",
    "plt.title('VOL Distribution')\n",
    "plt.show()"
   ]
  },
  {
   "cell_type": "code",
   "execution_count": 69,
   "id": "18ec7a31",
   "metadata": {},
   "outputs": [
    {
     "data": {
      "image/png": "[encoded data removed]",
      "text/plain": [
       "<Figure size 432x288 with 1 Axes>"
      ]
     },
     "metadata": {
      "needs_background": "light"
     },
     "output_type": "display_data"
    }
   ],
   "source": [
    "sns.kdeplot(data=cars_data_2,x='log_WT')\n",
    "plt.title('WT Distribution')\n",
    "plt.show()"
   ]
  },
  {
   "cell_type": "markdown",
   "id": "96cb03a6",
   "metadata": {},
   "source": [
    "### Normality Test is Failed."
   ]
  },
  {
   "cell_type": "markdown",
   "id": "15f752b7",
   "metadata": {},
   "source": [
    "## Model Building || Training || Evaluation using Statsmodels"
   ]
  },
  {
   "cell_type": "code",
   "execution_count": 70,
   "id": "1aeb4192",
   "metadata": {},
   "outputs": [
    {
     "name": "stdout",
     "output_type": "stream",
     "text": [
      "R2Score     : 0.7114\n",
      "Adj.R2Score : 0.7078\n",
      "AIC Value   : 490.4986\n",
      "BIC Value   : 495.2875\n",
      "P-Value     :\n",
      " Intercept    7.082927e-32\n",
      "log_HP       5.066177e-23\n",
      "dtype: float64\n"
     ]
    }
   ],
   "source": [
    "linear_model_stats_1 = smf.ols('MPG~log_HP',data = cars_data_2).fit()\n",
    "print('R2Score     :',linear_model_stats_1.rsquared.round(4)) #Overall Contribution of Predictors\n",
    "print('Adj.R2Score :',linear_model_stats_1.rsquared_adj.round(4)) #Overall Contribution of Predictors\n",
    "print('AIC Value   :',linear_model_stats_1.aic.round(4)) #Error Impurity\n",
    "print('BIC Value   :',linear_model_stats_1.bic.round(4)) #Error Impurity\n",
    "print('P-Value     :\\n',linear_model_stats_1.pvalues)"
   ]
  },
  {
   "cell_type": "markdown",
   "id": "3890c627",
   "metadata": {},
   "source": [
    "### Hypothesis Formulation\n",
    "\n",
    "**H0: Input feature/This is not significant for prediction.**\n",
    "\n",
    "**Ha: It is a significant feature**\n",
    "\n",
    "**Level of significance = 5%**"
   ]
  },
  {
   "cell_type": "code",
   "execution_count": 71,
   "id": "db252e8f",
   "metadata": {},
   "outputs": [
    {
     "name": "stdout",
     "output_type": "stream",
     "text": [
      "R2Score     : 0.8414\n",
      "Adj.R2Score : 0.8373\n",
      "AIC Value   : 444.0331\n",
      "BIC Value   : 451.2165\n",
      "P-Value     :\n",
      " Intercept    2.046654e-34\n",
      "log_HP       3.965778e-29\n",
      "log_VOL      9.705055e-12\n",
      "dtype: float64\n"
     ]
    }
   ],
   "source": [
    "linear_model_stats_2 = smf.ols('MPG~log_HP + log_VOL',data = cars_data_2).fit()\n",
    "print('R2Score     :',linear_model_stats_2.rsquared.round(4)) #Overall Contribution of Predictors\n",
    "print('Adj.R2Score :',linear_model_stats_2.rsquared_adj.round(4)) #Overall Contribution of Predictors\n",
    "print('AIC Value   :',linear_model_stats_2.aic.round(4)) #Error Impurity\n",
    "print('BIC Value   :',linear_model_stats_2.bic.round(4)) #Error Impurity\n",
    "print('P-Value     :\\n',linear_model_stats_2.pvalues)"
   ]
  },
  {
   "cell_type": "code",
   "execution_count": 72,
   "id": "e78b6bd4",
   "metadata": {},
   "outputs": [
    {
     "name": "stdout",
     "output_type": "stream",
     "text": [
      "R2Score     : 0.8421\n",
      "Adj.R2Score : 0.8359\n",
      "AIC Value   : 445.6706\n",
      "BIC Value   : 455.2484\n",
      "P-Value     :\n",
      " Intercept    2.136385e-04\n",
      "log_HP       3.365777e-28\n",
      "log_VOL      3.819720e-01\n",
      "log_WT       5.584725e-01\n",
      "dtype: float64\n"
     ]
    }
   ],
   "source": [
    "linear_model_stats_3 = smf.ols('MPG~log_HP + log_VOL + log_WT',data = cars_data_2).fit()\n",
    "print('R2Score     :',linear_model_stats_3.rsquared.round(4)) #Overall Contribution of Predictors\n",
    "print('Adj.R2Score :',linear_model_stats_3.rsquared_adj.round(4)) #Overall Contribution of Predictors\n",
    "print('AIC Value   :',linear_model_stats_3.aic.round(4)) #Error Impurity\n",
    "print('BIC Value   :',linear_model_stats_3.bic.round(4)) #Error Impurity\n",
    "print('P-Value     :\\n',linear_model_stats_3.pvalues)"
   ]
  },
  {
   "cell_type": "code",
   "execution_count": 73,
   "id": "05ea2b59",
   "metadata": {},
   "outputs": [
    {
     "name": "stdout",
     "output_type": "stream",
     "text": [
      "R2Score     : 0.9111\n",
      "Adj.R2Score : 0.9077\n",
      "AIC Value   : 399.1035\n",
      "BIC Value   : 408.6813\n",
      "P-Value     :\n",
      " Intercept    2.979573e-03\n",
      "log_HP       4.084975e-23\n",
      "log_VOL      1.603615e-14\n",
      "log_SP       2.763985e-11\n",
      "dtype: float64\n"
     ]
    }
   ],
   "source": [
    "linear_model_stats_4 = smf.ols('MPG~log_HP + log_VOL + log_SP',data = cars_data_2).fit()\n",
    "print('R2Score     :',linear_model_stats_4.rsquared.round(4)) #Overall Contribution of Predictors\n",
    "print('Adj.R2Score :',linear_model_stats_4.rsquared_adj.round(4)) #Overall Contribution of Predictors\n",
    "print('AIC Value   :',linear_model_stats_4.aic.round(4)) #Error Impurity\n",
    "print('BIC Value   :',linear_model_stats_4.bic.round(4)) #Error Impurity\n",
    "print('P-Value     :\\n',linear_model_stats_4.pvalues)"
   ]
  },
  {
   "cell_type": "code",
   "execution_count": 74,
   "id": "36d40185",
   "metadata": {},
   "outputs": [
    {
     "name": "stdout",
     "output_type": "stream",
     "text": [
      "R2Score     : 0.9118\n",
      "Adj.R2Score : 0.9071\n",
      "AIC Value   : 400.5013\n",
      "BIC Value   : 412.4736\n",
      "P-Value     :\n",
      " Intercept    1.461211e-02\n",
      "log_HP       1.563309e-22\n",
      "log_VOL      6.825708e-01\n",
      "log_WT       4.537425e-01\n",
      "log_SP       3.314965e-11\n",
      "dtype: float64\n"
     ]
    }
   ],
   "source": [
    "linear_model_stats_5 = smf.ols('MPG~log_HP + log_VOL + log_WT + log_SP',data = cars_data_2).fit()\n",
    "print('R2Score     :',linear_model_stats_5.rsquared.round(4)) #Overall Contribution of Predictors\n",
    "print('Adj.R2Score :',linear_model_stats_5.rsquared_adj.round(4)) #Overall Contribution of Predictors\n",
    "print('AIC Value   :',linear_model_stats_5.aic.round(4)) #Error Impurity\n",
    "print('BIC Value   :',linear_model_stats_5.bic.round(4)) #Error Impurity\n",
    "print('P-Value     :\\n',linear_model_stats_5.pvalues)"
   ]
  },
  {
   "cell_type": "markdown",
   "id": "b235067a",
   "metadata": {},
   "source": [
    "## ======================================================================="
   ]
  }
 ],
 "metadata": {
  "kernelspec": {
   "display_name": "Python 3 (ipykernel)",
   "language": "python",
   "name": "python3"
  },
  "language_info": {
   "codemirror_mode": {
    "name": "ipython",
    "version": 3
   },
   "file_extension": ".py",
   "mimetype": "text/x-python",
   "name": "python",
   "nbconvert_exporter": "python",
   "pygments_lexer": "ipython3",
   "version": "3.9.12"
  }
 },
 "nbformat": 4,
 "nbformat_minor": 5
}
